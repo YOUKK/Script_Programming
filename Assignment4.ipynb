{
 "cells": [
  {
   "cell_type": "markdown",
   "id": "793c01e8",
   "metadata": {},
   "source": [
    "# 1"
   ]
  },
  {
   "cell_type": "markdown",
   "id": "575c70a0",
   "metadata": {},
   "source": [
    "1)"
   ]
  },
  {
   "cell_type": "code",
   "execution_count": 1,
   "id": "85214b8f",
   "metadata": {},
   "outputs": [],
   "source": [
    "f = open(\"s.txt\",\"w\")\n",
    "f.write(\"pig ham\\n\")\n",
    "f.write(\"cat dog\\n\")\n",
    "f.write(\"ham bird\\n\")\n",
    "f.write(\"dog pig\")\n",
    "f.close()"
   ]
  },
  {
   "cell_type": "markdown",
   "id": "691d256a",
   "metadata": {},
   "source": [
    "2)"
   ]
  },
  {
   "cell_type": "code",
   "execution_count": 2,
   "id": "505a9d41",
   "metadata": {},
   "outputs": [],
   "source": [
    "f = open(\"C:\\\\Users\\\\USER\\\\Phyton\\\\s.txt\", \"r\")\n",
    "tlist = []\n",
    "while True :\n",
    "    line = f.readline()\n",
    "    if not line : break\n",
    "    tlist.append(line.strip())\n",
    "f.close()\n",
    "\n",
    "tlist.sort()\n",
    "\n",
    "f1 = open(\"s1.txt\",\"w\")\n",
    "for i in tlist :\n",
    "    f1.write(i)\n",
    "    f1.write('\\n')\n",
    "f1.close()"
   ]
  },
  {
   "cell_type": "markdown",
   "id": "f177bf98",
   "metadata": {},
   "source": [
    "3)"
   ]
  },
  {
   "cell_type": "code",
   "execution_count": 3,
   "id": "cf7204a1",
   "metadata": {},
   "outputs": [],
   "source": [
    "f = open(\"C:\\\\Users\\\\USER\\\\Phyton\\\\s.txt\", \"r\")\n",
    "tlist = []\n",
    "tlist1 = []\n",
    "tlist2 = []\n",
    "\n",
    "while True :\n",
    "    line = f.readline()\n",
    "    if not line : break\n",
    "    tlist.append(line.strip())\n",
    "    tlist1.append(line.split()[0])\n",
    "    tlist2.append(line.split()[1])\n",
    "f.close()\n",
    "\n",
    "tlist2.sort()\n",
    "\n",
    "f1 = open(\"s2.txt\",\"w\")\n",
    "for i in tlist2 :\n",
    "    for j in range(len(tlist)) :\n",
    "        if i in tlist[j] and i not in tlist1[j] :\n",
    "            f1.write(tlist[j])\n",
    "            f1.write(\"\\n\")\n",
    "f1.close()"
   ]
  },
  {
   "cell_type": "markdown",
   "id": "55a65d8e",
   "metadata": {},
   "source": [
    "4)"
   ]
  },
  {
   "cell_type": "code",
   "execution_count": 4,
   "id": "453e52e5",
   "metadata": {},
   "outputs": [],
   "source": [
    "f = open(\"C:\\\\Users\\\\USER\\\\Phyton\\\\s.txt\", \"r\")\n",
    "lines = \"\"\n",
    "tlist = []\n",
    "\n",
    "while True :\n",
    "    line = f.readline()\n",
    "    if not line : break\n",
    "    lines += line\n",
    "f.close()\n",
    "\n",
    "tlist = lines.split()\n",
    "\n",
    "f1 = open(\"s3.txt\", \"w\")\n",
    "num = 0\n",
    "for i in tlist :\n",
    "    num += 1\n",
    "    f1.write(i)\n",
    "    f1.write(\" \")\n",
    "    if num % 3 == 0 :\n",
    "        f1.write(\"\\n\")\n",
    "f1.close()"
   ]
  },
  {
   "cell_type": "markdown",
   "id": "2ea87603",
   "metadata": {},
   "source": [
    "1) 쓰기모드로 s.txt를 만들고 write()를 통해 내용을 입력했다.<br>\n",
    "2) readline()을 통해 한줄씩 가져와 tlist라는 리스트에 추가하고 sort()로 정렬한다. 쓰기모드로 s1.txt를 만들고 tlist의 항목을 차례로 하나씩 write()로 추가한다.<br>\n",
    "3) readline()을 통해 한줄씩 가져와 tlist라는 리스트에는 한 줄을 추가하고 tlist1이라는 리스트에는 줄의 첫번째 단어를 추가하고 tlist2라는 리스트에는 줄의 두번째 단어를 추가한다. 두번째 단어를 기준으로 정렬이니까 tlsit2를 sort()를 통해 정렬한다. 쓰기모드로 s2.txt를 만들고 그 안에 tlist2의 단어가 tlist에 있고 tlist1에 없을 때 tlist의 항목을 write()로 추가한다.<br>\n",
    "4) readline()을 통해 한줄씩 가져오고 lines라는 문자열에 이어 붙인다. 그리고 lines를 split()을 통해 한 단어가 한 항목인 리스트를 만든다.(이 리스트는 tlist). 쓰기모드로 s3.txt를 만들고 tlist의 항목을 3개 write()하면 줄바꿈을 하게 만들어 한 줄에 단어 3개씩 오게 만든다."
   ]
  },
  {
   "cell_type": "markdown",
   "id": "76401c8d",
   "metadata": {},
   "source": [
    "# 2"
   ]
  },
  {
   "cell_type": "code",
   "execution_count": 2,
   "id": "94c849da",
   "metadata": {},
   "outputs": [
    {
     "name": "stdout",
     "output_type": "stream",
     "text": [
      "Welcome to Our Service\n",
      "A. Sign Up\n",
      "B. Sign In\n",
      "C. Quit\n",
      "회원가입을 원하시면 1, 로그인을 원하시면 2, 끝내시려면 3을 입력해주세요 : 3\n",
      "프로그램을 종료합니다.\n"
     ]
    }
   ],
   "source": [
    "import hashlib\n",
    "\n",
    "def program() :\n",
    "    print(\"Welcome to Our Service\")\n",
    "    print(\"A. Sign Up\")\n",
    "    print(\"B. Sign In\")\n",
    "    print(\"C. Quit\")\n",
    "    n = input(\"회원가입을 원하시면 1, 로그인을 원하시면 2, 끝내시려면 3을 입력해주세요 : \")\n",
    "\n",
    "    if n == '1' :\n",
    "        try :\n",
    "            f = open(\"access.txt\",\"x\")\n",
    "            idd = input(\"아이디를 입력하시오 : \")\n",
    "            idlist.append(idd)\n",
    "            password = input(\"비밀번호를 입력하시오 : \")\n",
    "            pw_encrypted = hashlib.sha256(password.encode()).hexdigest()\n",
    "            name = input(\"이름을 입력하시오 : \")\n",
    "            school = input(\"학교를 입력하시오 : \")\n",
    "            f.write('[{0}] : [{1}], [{2}], [{3}]\\n'.format(idd,pw_encrypted,name,school))\n",
    "            f.close()\n",
    "        except :\n",
    "            f = open(\"access.txt\", \"a\")    \n",
    "            idd = input(\"아이디를 입력하시오 : \")\n",
    "            password = input(\"비밀번호를 입력하시오 : \")\n",
    "            pw_encrypted = hashlib.sha256(password.encode()).hexdigest()\n",
    "            name = input(\"이름을 입력하시오 : \")\n",
    "            school = input(\"학교를 입력하시오 : \")\n",
    "            f.write('[{0}] : [{1}], [{2}], [{3}]\\n'.format(idd,pw_encrypted,name,school))\n",
    "            f.close()            \n",
    "        return\n",
    "    \n",
    "    elif n == '2' :\n",
    "        \n",
    "        return\n",
    "    \n",
    "    elif n == '3' :\n",
    "        print(\"프로그램을 종료합니다.\")\n",
    "        return\n",
    "    \n",
    "program()"
   ]
  },
  {
   "cell_type": "markdown",
   "id": "1416e909",
   "metadata": {},
   "source": [
    "1을 입력하면 회원가입을, 2를 입력하면 로그인을, 3을 입력하면 프로그램이 종료되게 만들었다. 회원가입에서 기존에 access.txt가 없다면 생성하게 했고 만일 access.txt가 기존에 있다면 except문으로 가서 있던 텍스트 파일에 내용을 추가할 수 있게 만들었다. 아이디, 비번, 이름, 학교를 입력받게 했고 그 내용을 텍스트파일에 입력했다. 기존에 있던 id인지 판단하는 건 텍스트 파일에서 아이디만 가져오는 걸 구현하지 못해서 만들지 못했다. 로그인도 아이디, 비번만 가져오는 걸 구현하지 못해서 만들지 못했다. 프로그램 종료는 함수가 끝나게 만들었다."
   ]
  },
  {
   "cell_type": "markdown",
   "id": "2b9fa333",
   "metadata": {},
   "source": [
    "# 3"
   ]
  },
  {
   "cell_type": "code",
   "execution_count": 3,
   "id": "b64ce002",
   "metadata": {},
   "outputs": [
    {
     "name": "stdout",
     "output_type": "stream",
     "text": [
      "[0, 0.1, 0.2, 0.3, 0.4]\n",
      "[1.0, 1.1, 1.2, 1.3, 1.4, 1.5, 1.6, 1.7, 1.8, 1.9]\n",
      "[2.2, 2.7, 3.2, 3.7]\n"
     ]
    }
   ],
   "source": [
    "def frange(start, stop=-1, step=0.1) :\n",
    "    if stop == -1 :\n",
    "        stop = start\n",
    "        start = 0\n",
    "    \n",
    "    flist = []\n",
    "    while round(start,1) < stop :\n",
    "        flist.append(round(start,1))\n",
    "        start += step\n",
    "    return flist\n",
    "    \n",
    "print(frange(0.5))\n",
    "print(frange(1.0,2.0))\n",
    "print(frange(2.2,4.0,0.5))"
   ]
  },
  {
   "cell_type": "markdown",
   "id": "bb6505ed",
   "metadata": {},
   "source": [
    "이 함수를 frange(stop) 그리고 frange(start,stop[,step ]) 으로 둘 다 쓸 수 있어야 하므로 첫번째 if문에서 두 케이스에 따라 start와 stop값이 어떻게 되는지 설정해준다. 그리고 while문에서 start가 stop보다 작을 때까지 start의 값을 flist라는 리스트에 추가하고 start에 step을 더해준다. 여기서 start가 아니라 round(start,1)을 쓴 이유는 "
   ]
  },
  {
   "cell_type": "markdown",
   "id": "f2d39bd3",
   "metadata": {},
   "source": [
    "# 4"
   ]
  },
  {
   "cell_type": "code",
   "execution_count": 4,
   "id": "40a223fd",
   "metadata": {},
   "outputs": [
    {
     "name": "stdout",
     "output_type": "stream",
     "text": [
      "0\n",
      "3\n",
      "15\n",
      "5\n"
     ]
    }
   ],
   "source": [
    "def sum(*args) :\n",
    "    num = 0\n",
    "    for i in range(len(args)) :\n",
    "        num += args[i]\n",
    "    return num\n",
    "\n",
    "print(sum())\n",
    "print(sum(1, 2))\n",
    "print(sum(1, 2, 3, 4, 5))\n",
    "print(sum(1, 5, 7, 2, -10))"
   ]
  },
  {
   "cell_type": "markdown",
   "id": "eaa92e13",
   "metadata": {},
   "source": [
    "입력받은 가변인자의 수만큼 for문을 돌려 가변인자를 다 더하고 반환한다."
   ]
  },
  {
   "cell_type": "markdown",
   "id": "bae96751",
   "metadata": {},
   "source": [
    "# 5"
   ]
  },
  {
   "cell_type": "code",
   "execution_count": 5,
   "id": "195e54c8",
   "metadata": {},
   "outputs": [
    {
     "data": {
      "text/plain": [
       "'ASAP'"
      ]
     },
     "execution_count": 5,
     "metadata": {},
     "output_type": "execute_result"
    }
   ],
   "source": [
    "def myinitial(line) :\n",
    "    wordlist = line.split()\n",
    "    caplist = list(map(lambda x: x[0].upper(), wordlist))\n",
    "    newWord = ''.join(caplist)\n",
    "    return newWord\n",
    "\n",
    "myinitial(\"as soon as possible\")"
   ]
  },
  {
   "cell_type": "markdown",
   "id": "ca94866a",
   "metadata": {},
   "source": [
    "입력받은 문자열을 split()을 통해 띄어쓰기를 기준으로 단어를 나누어 wordlist에 저장한다. map과 lambda함수를 이용해 wordlist 각 항목의 첫번째 문자만을 가져와 대문자로 만들고 caplist에 리스트로 저장한다. join()을 통해 caplist의 항목을 모두 잇고 newWord에 저장한다. 그리고 newWord를 반환한다."
   ]
  },
  {
   "cell_type": "markdown",
   "id": "b69c30f0",
   "metadata": {},
   "source": [
    "# 6"
   ]
  },
  {
   "cell_type": "code",
   "execution_count": 6,
   "id": "888dc136",
   "metadata": {},
   "outputs": [
    {
     "data": {
      "text/plain": [
       "120"
      ]
     },
     "execution_count": 6,
     "metadata": {},
     "output_type": "execute_result"
    }
   ],
   "source": [
    "def myfact(n) :\n",
    "    if n < 0 :\n",
    "        print(\"음이 아닌 정수를 입력해야합니다\")\n",
    "        return\n",
    "    if n == 0 :\n",
    "        return 0\n",
    "    \n",
    "    if n == 1 : \n",
    "        return 1\n",
    "    else : return n * myfact(n-1)\n",
    "    \n",
    "myfact(5)"
   ]
  },
  {
   "cell_type": "markdown",
   "id": "111d74ea",
   "metadata": {},
   "source": [
    "음이 아닌 정수 n을 받아야하니까 n이 음수이면 함수를 종료한다. n이 0이면 0을 반환한다. n이 1이면 1을 반환한다. n이 2 이상이면 함수를 재귀적으로 호출해 팩토리얼을 계산하고 반환한다."
   ]
  },
  {
   "cell_type": "markdown",
   "id": "a27094e8",
   "metadata": {},
   "source": [
    "# 7"
   ]
  },
  {
   "cell_type": "markdown",
   "id": "eae533ed",
   "metadata": {},
   "source": [
    "import string을 하면 string모듈의 함수를 쓸 때 모듈명을 써주어야 한다. 그런데  from string import * 을 하면 모듈명 없이 함수명으로만 함수를 쓸 수 있다."
   ]
  },
  {
   "cell_type": "markdown",
   "id": "e4a29a50",
   "metadata": {},
   "source": [
    "# Incremental Project 문제"
   ]
  },
  {
   "cell_type": "code",
   "execution_count": 7,
   "id": "e5d6a21d",
   "metadata": {},
   "outputs": [],
   "source": [
    "import requests\n",
    "\n",
    "req = requests.get('https://programmers.co.kr/')\n",
    "\n",
    "line = req.text\n",
    "\n",
    "l1 = list(line)\n",
    "\n",
    "try:\n",
    "    while True :\n",
    "        i = l1.index('<')\n",
    "        \n",
    "        if l1[i+1] == 's' and l1[i+2] == 'c':\n",
    "            l1.pop(i)\n",
    "            while l1[i] != '<' :\n",
    "                l1.pop(i)\n",
    "        elif l1[i+1] == 'n' :\n",
    "            l1.pop(i)\n",
    "            while not (l1[i] == '<' and l1[i+1] == '/' and l1[i+2] == 'n') :\n",
    "                l1.pop(i)\n",
    "        else :\n",
    "            while l1[i] != '>' : \n",
    "                l1.pop(i)\n",
    "            if l1[i] == '>' : \n",
    "                l1.pop(i)\n",
    "except: None\n",
    "\n",
    "try :\n",
    "    while True :\n",
    "        i = l1.index('\\n')       \n",
    "        if l1[i] == '\\n' :\n",
    "            l1.pop(i)\n",
    "except : None\n",
    "            \n",
    "b = ''.join(l1).split()\n",
    "\n",
    "\n",
    "\n",
    "\n",
    "import string\n",
    "\n",
    "newlist = []\n",
    "\n",
    "for substring in b :\n",
    "    substring2 = ''.join([i for i in substring if i not in string.punctuation])\n",
    "    newlist.append(substring2)\n",
    "            \n",
    "newlist = ' '.join(newlist).split()\n",
    "\n",
    "worddict = {}\n",
    "for i in newlist :\n",
    "    if i not in worddict :\n",
    "        worddict[i] = 1\n",
    "    else :\n",
    "        num = worddict[i]\n",
    "        worddict[i] = num + 1\n",
    "\n",
    "f = open(\"C:\\\\Users\\\\USER\\\\Phyton\\\\stop_words.txt\", \"rt\", encoding='UTF8')\n",
    "stopword = []\n",
    "while True :\n",
    "    line = f.readline()\n",
    "    if not line : break\n",
    "    stopword.append(line.strip())\n",
    "f.close()\n",
    "\n",
    "for i in list(worddict.keys()) :\n",
    "    for j in stopword :\n",
    "        if i == j :\n",
    "            del worddict[i]\n",
    "\n",
    "req = requests.get('https://programmers.co.kr/')\n",
    "lines = req.text\n",
    "f = open(\"programmers.co.kr.html\", \"w\")\n",
    "f.write(lines)\n",
    "f.close()\n",
    "\n",
    "import pickle\n",
    "f = open(\"programmers.co.kr.words_frequency.pickle\", \"wb\")\n",
    "pickle.dump(worddict, f)\n",
    "f.close()"
   ]
  },
  {
   "cell_type": "code",
   "execution_count": 8,
   "id": "637ac50a",
   "metadata": {},
   "outputs": [],
   "source": [
    "import requests\n",
    "\n",
    "req = requests.get('https://www.kakaocorp.com/')\n",
    "\n",
    "line = req.text\n",
    "\n",
    "l1 = list(line)\n",
    "\n",
    "try:\n",
    "    while True :\n",
    "        i = l1.index('<')\n",
    "        \n",
    "        if l1[i+1] == 's' and l1[i+2] == 'c':\n",
    "            l1.pop(i)\n",
    "            while l1[i] != '<' :\n",
    "                l1.pop(i)\n",
    "        elif l1[i+1] == 'n' :\n",
    "            l1.pop(i)\n",
    "            while not (l1[i] == '<' and l1[i+1] == '/' and l1[i+2] == 'n') :\n",
    "                l1.pop(i)\n",
    "        else :\n",
    "            while l1[i] != '>' : \n",
    "                l1.pop(i)\n",
    "            if l1[i] == '>' : \n",
    "                l1.pop(i)\n",
    "except: None\n",
    "\n",
    "try :\n",
    "    while True :\n",
    "        i = l1.index('\\n')       \n",
    "        if l1[i] == '\\n' :\n",
    "            l1.pop(i)\n",
    "except : None\n",
    "            \n",
    "b = ''.join(l1).split()\n",
    "\n",
    "\n",
    "\n",
    "\n",
    "import string\n",
    "\n",
    "newlist = []\n",
    "\n",
    "for substring in b :\n",
    "    substring2 = ''.join([i for i in substring if i not in string.punctuation])\n",
    "    newlist.append(substring2)\n",
    "            \n",
    "newlist = ' '.join(newlist).split()\n",
    "\n",
    "worddict = {}\n",
    "for i in newlist :\n",
    "    if i not in worddict :\n",
    "        worddict[i] = 1\n",
    "    else :\n",
    "        num = worddict[i]\n",
    "        worddict[i] = num + 1\n",
    "\n",
    "f = open(\"C:\\\\Users\\\\USER\\\\Phyton\\\\stop_words.txt\", \"rt\",encoding='UTF8')\n",
    "stopword = []\n",
    "while True :\n",
    "    line = f.readline()\n",
    "    if not line : break\n",
    "    stopword.append(line.strip())\n",
    "f.close()\n",
    "\n",
    "for i in list(worddict.keys()) :\n",
    "    for j in stopword :\n",
    "        if i == j :\n",
    "            del worddict[i]\n",
    "\n",
    "req = requests.get('https://www.kakaocorp.com/')\n",
    "lines = req.text\n",
    "f = open(\"www.kakaocorp.com.html\", \"w\", encoding='UTF8')\n",
    "f.write(lines)\n",
    "f.close()\n",
    "\n",
    "import pickle\n",
    "f = open(\"www.kakaocorp.com.words_frequency.pickle\", \"wb\")\n",
    "pickle.dump(worddict, f)\n",
    "f.close()"
   ]
  },
  {
   "cell_type": "code",
   "execution_count": 9,
   "id": "61785aef",
   "metadata": {},
   "outputs": [],
   "source": [
    "req = requests.get('https://www.mexicana.co.kr/main')\n",
    "\n",
    "line = req.text\n",
    "\n",
    "l1 = list(line)\n",
    "\n",
    "try:\n",
    "    while True :\n",
    "        i = l1.index('<')\n",
    "        \n",
    "        if l1[i+1] == 's' and l1[i+2] == 'c':\n",
    "            l1.pop(i)\n",
    "            while l1[i] != '<' :\n",
    "                l1.pop(i)\n",
    "        elif l1[i+1] == 'n' :\n",
    "            l1.pop(i)\n",
    "            while not (l1[i] == '<' and l1[i+1] == '/' and l1[i+2] == 'n') :\n",
    "                l1.pop(i)\n",
    "        else :\n",
    "            while l1[i] != '>' : \n",
    "                l1.pop(i)\n",
    "            if l1[i] == '>' : \n",
    "                l1.pop(i)\n",
    "except: None\n",
    "\n",
    "try :\n",
    "    while True :\n",
    "        i = l1.index('\\n')       \n",
    "        if l1[i] == '\\n' :\n",
    "            l1.pop(i)\n",
    "except : None\n",
    "            \n",
    "b = ''.join(l1).split()\n",
    "\n",
    "\n",
    "\n",
    "\n",
    "import string\n",
    "\n",
    "newlist = []\n",
    "\n",
    "for substring in b :\n",
    "    substring2 = ''.join([i for i in substring if i not in string.punctuation])\n",
    "    newlist.append(substring2)\n",
    "            \n",
    "newlist = ' '.join(newlist).split()\n",
    "\n",
    "worddict = {}\n",
    "for i in newlist :\n",
    "    if i not in worddict :\n",
    "        worddict[i] = 1\n",
    "    else :\n",
    "        num = worddict[i]\n",
    "        worddict[i] = num + 1\n",
    "\n",
    "f = open(\"C:\\\\Users\\\\USER\\\\Phyton\\\\stop_words.txt\", \"rt\", encoding='UTF8')\n",
    "stopword = []\n",
    "while True :\n",
    "    line = f.readline()\n",
    "    if not line : break\n",
    "    stopword.append(line.strip())\n",
    "f.close()\n",
    "\n",
    "for i in list(worddict.keys()) :\n",
    "    for j in stopword :\n",
    "        if i == j :\n",
    "            del worddict[i]\n",
    "\n",
    "req = requests.get('https://www.mexicana.co.kr/main')\n",
    "lines = req.text\n",
    "f = open(\"www.mexicana.co.kr.html\", \"w\", encoding='UTF8')\n",
    "f.write(lines)\n",
    "f.close()\n",
    "\n",
    "import pickle\n",
    "f = open(\"www.mexicana.co.kr.words_frequency.pickle\", \"wb\")\n",
    "pickle.dump(worddict, f)\n",
    "f.close()"
   ]
  },
  {
   "cell_type": "code",
   "execution_count": 10,
   "id": "3d8123ad",
   "metadata": {},
   "outputs": [],
   "source": [
    "req = requests.get('https://info.korail.com/mbs/www/index.jsp')\n",
    "\n",
    "line = req.text\n",
    "\n",
    "l1 = list(line)\n",
    "\n",
    "try:\n",
    "    while True :\n",
    "        i = l1.index('<')\n",
    "        \n",
    "        if l1[i+1] == 's' and l1[i+2] == 'c':\n",
    "            l1.pop(i)\n",
    "            while l1[i] != '<' :\n",
    "                l1.pop(i)\n",
    "        elif l1[i+1] == 'n' :\n",
    "            l1.pop(i)\n",
    "            while not (l1[i] == '<' and l1[i+1] == '/' and l1[i+2] == 'n') :\n",
    "                l1.pop(i)\n",
    "        else :\n",
    "            while l1[i] != '>' : \n",
    "                l1.pop(i)\n",
    "            if l1[i] == '>' : \n",
    "                l1.pop(i)\n",
    "except: None\n",
    "\n",
    "try :\n",
    "    while True :\n",
    "        i = l1.index('\\n')       \n",
    "        if l1[i] == '\\n' :\n",
    "            l1.pop(i)\n",
    "except : None\n",
    "            \n",
    "b = ''.join(l1).split()\n",
    "\n",
    "\n",
    "\n",
    "\n",
    "import string\n",
    "\n",
    "newlist = []\n",
    "\n",
    "for substring in b :\n",
    "    substring2 = ''.join([i for i in substring if i not in string.punctuation])\n",
    "    newlist.append(substring2)\n",
    "            \n",
    "newlist = ' '.join(newlist).split()\n",
    "\n",
    "worddict = {}\n",
    "for i in newlist :\n",
    "    if i not in worddict :\n",
    "        worddict[i] = 1\n",
    "    else :\n",
    "        num = worddict[i]\n",
    "        worddict[i] = num + 1\n",
    "\n",
    "f = open(\"C:\\\\Users\\\\USER\\\\Phyton\\\\stop_words.txt\", \"rt\", encoding='UTF8')\n",
    "stopword = []\n",
    "while True :\n",
    "    line = f.readline()\n",
    "    if not line : break\n",
    "    stopword.append(line.strip())\n",
    "f.close()\n",
    "\n",
    "for i in list(worddict.keys()) :\n",
    "    for j in stopword :\n",
    "        if i == j :\n",
    "            del worddict[i]\n",
    "\n",
    "req = requests.get('https://info.korail.com/mbs/www/index.jsp')\n",
    "lines = req.text\n",
    "f = open(\"info.korail.com.html\", \"w\")\n",
    "f.write(lines)\n",
    "f.close()\n",
    "\n",
    "import pickle\n",
    "f = open(\"info.korail.com.words_frequency.pickle\", \"wb\")\n",
    "pickle.dump(worddict, f)\n",
    "f.close()"
   ]
  },
  {
   "cell_type": "code",
   "execution_count": 11,
   "id": "a8a10b4c",
   "metadata": {},
   "outputs": [],
   "source": [
    "import requests\n",
    "\n",
    "req = requests.get('https://weather.naver.com/')\n",
    "\n",
    "line = req.text\n",
    "\n",
    "l1 = list(line)\n",
    "\n",
    "try:\n",
    "    while True :\n",
    "        i = l1.index('<')\n",
    "        \n",
    "        if l1[i+1] == 's' and l1[i+2] == 'c':\n",
    "            l1.pop(i)\n",
    "            while l1[i] != '<' :\n",
    "                l1.pop(i)\n",
    "        elif l1[i+1] == 'n' :\n",
    "            l1.pop(i)\n",
    "            while not (l1[i] == '<' and l1[i+1] == '/' and l1[i+2] == 'n') :\n",
    "                l1.pop(i)\n",
    "        else :\n",
    "            while l1[i] != '>' : \n",
    "                l1.pop(i)\n",
    "            if l1[i] == '>' : \n",
    "                l1.pop(i)\n",
    "except: None\n",
    "\n",
    "try :\n",
    "    while True :\n",
    "        i = l1.index('\\n')       \n",
    "        if l1[i] == '\\n' :\n",
    "            l1.pop(i)\n",
    "except : None\n",
    "            \n",
    "b = ''.join(l1).split()\n",
    "\n",
    "\n",
    "\n",
    "\n",
    "import string\n",
    "\n",
    "newlist = []\n",
    "\n",
    "for substring in b :\n",
    "    substring2 = ''.join([i for i in substring if i not in string.punctuation])\n",
    "    newlist.append(substring2)\n",
    "            \n",
    "newlist = ' '.join(newlist).split()\n",
    "\n",
    "worddict = {}\n",
    "for i in newlist :\n",
    "    if i not in worddict :\n",
    "        worddict[i] = 1\n",
    "    else :\n",
    "        num = worddict[i]\n",
    "        worddict[i] = num + 1\n",
    "\n",
    "f = open(\"C:\\\\Users\\\\USER\\\\Phyton\\\\stop_words.txt\", \"rt\", encoding='UTF8')\n",
    "stopword = []\n",
    "while True :\n",
    "    line = f.readline()\n",
    "    if not line : break\n",
    "    stopword.append(line.strip())\n",
    "f.close()\n",
    "\n",
    "for i in list(worddict.keys()) :\n",
    "    for j in stopword :\n",
    "        if i == j :\n",
    "            del worddict[i]\n",
    "            \n",
    "req = requests.get('https://weather.naver.com/')\n",
    "lines = req.text\n",
    "f = open(\"weather.naver.com.html\", \"w\", encoding='UTF8')\n",
    "f.write(lines)\n",
    "f.close()\n",
    "\n",
    "import pickle\n",
    "f = open(\"weather.naver.com.words_frequency.pickle\", \"wb\")\n",
    "pickle.dump(worddict, f)\n",
    "f.close()"
   ]
  },
  {
   "cell_type": "markdown",
   "id": "2c771adf",
   "metadata": {},
   "source": [
    "위의 5개의 셀은 5개의 사이트에 대해 단어사전을 만들고 HTML 소스 파일과 pickle 파일을 만드는 셀이다. 5개 셀 모두 사이트링크와 생성하는 파일이름 정도만 다르고 나머지는 똑같기 때문에 바로 위의 셀로 설명을 하자면 이번 과제는 f = open(\"C:\\\\Users\\\\USER\\\\Phyton\\\\stop_words.txt\", \"rt\", encoding='UTF8')부터 시작한다. 불용어를 저장한 파일을 열고 아래 while문에서 파일을 읽어와 단어를 하나씩 stopword라는 리스트에 추가한다. 그리고 그 아래 for문에서 stopword의 항목과 worddict(단어사전)에서 같은 key값을 가진 항목이 있으면 worddict에서 그 항목을 삭제한다. 그 아래는 html파일을 생성하는 코드이고 그 아래는 pickle파일을 생성하는 코드이다."
   ]
  },
  {
   "cell_type": "code",
   "execution_count": 12,
   "id": "bf312a32",
   "metadata": {},
   "outputs": [
    {
     "name": "stdout",
     "output_type": "stream",
     "text": [
      "프로그래머스 문의 서비스\n",
      "바로가기 카카오 서비스사이트\n",
      "멕시카나 소식 창업\n",
      "한국철도공사 코레일 부산철도차량정비단\n",
      "구름많음 맑음 날씨\n"
     ]
    }
   ],
   "source": [
    "import pickle\n",
    "\n",
    "f = open(\"programmers.co.kr.words_frequency.pickle\", \"rb\")\n",
    "data_read1 = pickle.load(f)\n",
    "f.close()\n",
    "\n",
    "import operator\n",
    "pro_dict = sorted(data_read1.items(), key=operator.itemgetter(1), reverse=True)\n",
    "print(pro_dict[0][0], pro_dict[1][0], pro_dict[2][0])\n",
    "\n",
    "\n",
    "f = open(\"www.kakaocorp.com.words_frequency.pickle\", \"rb\")\n",
    "data_read2 = pickle.load(f)\n",
    "f.close()\n",
    "\n",
    "kaka_dict = sorted(data_read2.items(), key=operator.itemgetter(1), reverse=True)\n",
    "print(kaka_dict[0][0], kaka_dict[1][0], kaka_dict[2][0])\n",
    "\n",
    "\n",
    "f = open(\"www.mexicana.co.kr.words_frequency.pickle\", \"rb\")\n",
    "data_read3 = pickle.load(f)\n",
    "f.close()\n",
    "\n",
    "mexi_dict = sorted(data_read3.items(), key=operator.itemgetter(1), reverse=True)\n",
    "print(mexi_dict[0][0], mexi_dict[1][0], mexi_dict[2][0])\n",
    "\n",
    "\n",
    "f = open(\"info.korail.com.words_frequency.pickle\", \"rb\")\n",
    "data_read4 = pickle.load(f)\n",
    "f.close()\n",
    "\n",
    "kora_dict = sorted(data_read4.items(), key=operator.itemgetter(1), reverse=True)\n",
    "print(kora_dict[0][0], kora_dict[1][0], kora_dict[2][0])\n",
    "\n",
    "\n",
    "f = open(\"weather.naver.com.words_frequency.pickle\", \"rb\")\n",
    "data_read5 = pickle.load(f)\n",
    "f.close()\n",
    "\n",
    "weather_dict = sorted(data_read5.items(), key=operator.itemgetter(1), reverse=True)\n",
    "print(weather_dict[0][0], weather_dict[1][0], weather_dict[2][0])"
   ]
  },
  {
   "cell_type": "markdown",
   "id": "954da178",
   "metadata": {},
   "source": [
    "위의 셀은 pickle파일을 로드한 뒤 사전에서 value가 큰 순으로 정렬하고 사이트 5개에 대해 각각 가장 많이 출현한 단어 3개를 제시하는 셀이다."
   ]
  },
  {
   "cell_type": "code",
   "execution_count": 13,
   "id": "d4397609",
   "metadata": {},
   "outputs": [
    {
     "name": "stdout",
     "output_type": "stream",
     "text": [
      "검색어를 입력하시오 : 맛있는 치킨 추천\n",
      "https://www.mexicana.co.kr/main https://programmers.co.kr/ https://www.kakaocorp.com/ https://info.korail.com/mbs/www/index.jsp https://weather.naver.com/ "
     ]
    }
   ],
   "source": [
    "search = input(\"검색어를 입력하시오 : \")\n",
    "searchlist = search.split()\n",
    "\n",
    "f = open(\"C:\\\\Users\\\\USER\\\\Phyton\\\\stop_words.txt\", \"rt\", encoding='UTF8')\n",
    "stopword = []\n",
    "while True :\n",
    "    line = f.readline()\n",
    "    if not line : break\n",
    "    stopword.append(line.strip())\n",
    "f.close()\n",
    "\n",
    "for i in searchlist :\n",
    "    for j in stopword :\n",
    "        if i == j :\n",
    "            searchlist.remove(i)\n",
    "\n",
    "sitedict = {'https://programmers.co.kr/' : 0,\n",
    "            'https://www.kakaocorp.com/' : 0,\n",
    "            'https://www.mexicana.co.kr/main' : 0,\n",
    "            'https://info.korail.com/mbs/www/index.jsp' : 0,\n",
    "            'https://weather.naver.com/' : 0\n",
    "           }\n",
    "dictdict = {'https://programmers.co.kr/' : data_read1, \n",
    "            'https://www.kakaocorp.com/' : data_read2, \n",
    "            'https://www.mexicana.co.kr/main' : data_read3, \n",
    "            'https://info.korail.com/mbs/www/index.jsp' : data_read4, \n",
    "            'https://weather.naver.com/' : data_read5}\n",
    "            \n",
    "for searchword in searchlist :\n",
    "    for i in range(len(list(dictdict.values()))) :\n",
    "        if searchword in list(list(dictdict.values())[i].keys()) :\n",
    "            #print(list(list(dictdict.values())[i].keys()))\n",
    "            num = sitedict[list(dictdict.keys())[i]]\n",
    "            sitedict[list(dictdict.keys())[i]] = num + list(dictdict.values())[i][searchword]\n",
    "            \n",
    "import operator\n",
    "sorted_sitedict = sorted(sitedict.items(), key=operator.itemgetter(1), reverse=True)\n",
    "for i in sorted_sitedict : \n",
    "    print(i[0], end=' ')"
   ]
  },
  {
   "cell_type": "markdown",
   "id": "5c136565",
   "metadata": {},
   "source": [
    "위의 셀은 검색어를 입력했을 때, 검색어를 뛰어쓰기 기준으로 split()하고 검색어를 불용어 처리 했다. 검색어리스트에 있는 각 항목이 각 사이트에 대해 몇번 출현하였는지 횟수를 모두 더해 sitedict에 저장하였다. 그리고 sitedict에서 출현횟수가 가장 많은 사이트부터 순서대로 링크를 일렬로 출력했다. "
   ]
  },
  {
   "cell_type": "markdown",
   "id": "fad9ce8d",
   "metadata": {},
   "source": [
    "완성도가 높은 검색엔진이 되기 위해서는 검색어의 띄어쓰기를 고려해야할 것 같다. 위에서 구현한 검색 엔진은 '맛있는 치킨 추천'이라고 검색했을 때 검색어의 띄어쓰기를 기준으로 '맛있는', '치킨', '추천' 3단어에 대한 각각 출현 횟수를 모두 더한다. 근데 이런 검색엔진에서는 만약 '맛있는치킨추천'이라고 검색하면 출현 횟수가 제대로 구해지지 않는다. 실제 검색 엔진에서는 '맛있는치킨추천', '맛있는치킨 추천' 등에 대해서도 모두 고려한 검색결과가 나온다."
   ]
  },
  {
   "cell_type": "markdown",
   "id": "e155240c",
   "metadata": {},
   "source": [
    "이번 과제에서는 파일을 다루는 문제가 몇개 나왔는데, 파일을 다루는 것이 생각보다 어려웠다. 그리고 파일 입출력으로 생긴 오류는 해결하긴 했지만 왜 생기는지는 잘 이해하지 못했다."
   ]
  }
 ],
 "metadata": {
  "kernelspec": {
   "display_name": "Python 3",
   "language": "python",
   "name": "python3"
  },
  "language_info": {
   "codemirror_mode": {
    "name": "ipython",
    "version": 3
   },
   "file_extension": ".py",
   "mimetype": "text/x-python",
   "name": "python",
   "nbconvert_exporter": "python",
   "pygments_lexer": "ipython3",
   "version": "3.8.8"
  }
 },
 "nbformat": 4,
 "nbformat_minor": 5
}
