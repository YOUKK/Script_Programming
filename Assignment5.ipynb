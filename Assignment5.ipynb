{
 "cells": [
  {
   "cell_type": "markdown",
   "id": "0bf7505c",
   "metadata": {},
   "source": [
    "학번 : 2020136027<br>\n",
    "이름 : 김유경"
   ]
  },
  {
   "cell_type": "markdown",
   "id": "1545b70b",
   "metadata": {},
   "source": [
    "# 1"
   ]
  },
  {
   "cell_type": "markdown",
   "id": "195caf29",
   "metadata": {},
   "source": [
    "공통점 : 다른 파일에서 정의한 클래스를 사용하고 싶을 때 import를 해 쓸 수 있다. 모듈도 import를 한 뒤 사용할 수 있다.<br>\n",
    "차이점 : 클래스는 상속이 가능하지만 모듈은 불가능하다, 클래스는 인스턴스화가 가능하지만 모듈은 불가능하다"
   ]
  },
  {
   "cell_type": "markdown",
   "id": "d8104c9d",
   "metadata": {},
   "source": [
    "# 2"
   ]
  },
  {
   "cell_type": "markdown",
   "id": "72395e36",
   "metadata": {},
   "source": [
    "다형성은 다른 클래스에 속한 같은 이름의 메소드가 다른(보통 유사한) 작업을 수행함으로써 다양한 형태를 가지는 것이다."
   ]
  },
  {
   "cell_type": "code",
   "execution_count": 2,
   "id": "617c0b1c",
   "metadata": {},
   "outputs": [],
   "source": [
    "class Animal :\n",
    "    def cry(self) :\n",
    "        return \"\"\n",
    "    \n",
    "class Dog(Animal) :\n",
    "    def cry(self) :\n",
    "        return \"멍멍\"\n",
    "    \n",
    "class Cat(Animal) :\n",
    "    def cry(self) :\n",
    "        return \"야옹\""
   ]
  },
  {
   "cell_type": "code",
   "execution_count": 3,
   "id": "7ad23f42",
   "metadata": {},
   "outputs": [
    {
     "name": "stdout",
     "output_type": "stream",
     "text": [
      "멍멍\n",
      "야옹\n"
     ]
    }
   ],
   "source": [
    "dog = Dog()\n",
    "cat = Cat()\n",
    "\n",
    "print(dog.cry())\n",
    "print(cat.cry())"
   ]
  },
  {
   "cell_type": "markdown",
   "id": "fb1b30a8",
   "metadata": {},
   "source": [
    "# 3"
   ]
  },
  {
   "cell_type": "code",
   "execution_count": 4,
   "id": "a4cb0816",
   "metadata": {},
   "outputs": [],
   "source": [
    "class Counter() :\n",
    "    def __init__(self, count, step=1) :\n",
    "        self.count = count\n",
    "        self.step = step\n",
    "        \n",
    "    def __str__(self) :\n",
    "        return \"[Count (step: {})] {}\".format(self.step, self.count)\n",
    "    \n",
    "    def incr(self) :\n",
    "        self.count += self.step\n",
    "    \n",
    "    def __call__(self) :\n",
    "        self.incr()\n",
    "        \n",
    "    def __add__(self, other) :\n",
    "        self.count += other\n",
    "        return self.count\n",
    "    \n",
    "    def __sub__(self, other) :\n",
    "        self.count -= other \n",
    "        return self.count\n",
    "    \n",
    "    def __lt__(self, other) :\n",
    "        return self.count < other\n",
    "    \n",
    "    def __eq__(self, other) :\n",
    "        return self.count == other"
   ]
  },
  {
   "cell_type": "code",
   "execution_count": 5,
   "id": "5567462d",
   "metadata": {},
   "outputs": [],
   "source": [
    "c = Counter(10)\n",
    "d = Counter(10,2)"
   ]
  },
  {
   "cell_type": "code",
   "execution_count": 6,
   "id": "db404f5c",
   "metadata": {},
   "outputs": [
    {
     "name": "stdout",
     "output_type": "stream",
     "text": [
      "[Count (step: 1)] 10\n",
      "[Count (step: 2)] 10\n"
     ]
    }
   ],
   "source": [
    "print(c)\n",
    "print(d)"
   ]
  },
  {
   "cell_type": "code",
   "execution_count": 7,
   "id": "e9c46d8f",
   "metadata": {},
   "outputs": [
    {
     "name": "stdout",
     "output_type": "stream",
     "text": [
      "[Count (step: 1)] 11\n",
      "[Count (step: 2)] 12\n"
     ]
    }
   ],
   "source": [
    "c.incr()\n",
    "d.incr()\n",
    "print(c)\n",
    "print(d)"
   ]
  },
  {
   "cell_type": "code",
   "execution_count": 8,
   "id": "9fe210df",
   "metadata": {},
   "outputs": [
    {
     "name": "stdout",
     "output_type": "stream",
     "text": [
      "[Count (step: 1)] 12\n",
      "[Count (step: 2)] 14\n"
     ]
    }
   ],
   "source": [
    "c()\n",
    "d()\n",
    "print(c)\n",
    "print(d)"
   ]
  },
  {
   "cell_type": "code",
   "execution_count": 9,
   "id": "0984caf4",
   "metadata": {},
   "outputs": [
    {
     "name": "stdout",
     "output_type": "stream",
     "text": [
      "17\n",
      "9\n"
     ]
    }
   ],
   "source": [
    "c = c+5\n",
    "d = d-5\n",
    "print(c)\n",
    "print(d)"
   ]
  },
  {
   "cell_type": "code",
   "execution_count": 10,
   "id": "3950d9fe",
   "metadata": {},
   "outputs": [
    {
     "name": "stdout",
     "output_type": "stream",
     "text": [
      "True\n",
      "False\n",
      "False\n",
      "True\n",
      "True\n",
      "False\n"
     ]
    }
   ],
   "source": [
    "print(c>10)\n",
    "print(d>10)\n",
    "print(c<10)\n",
    "print(d<10)\n",
    "print(c==17)\n",
    "print(d != 9)"
   ]
  },
  {
   "cell_type": "markdown",
   "id": "371d36da",
   "metadata": {},
   "source": [
    "Counter클래스를 만든 뒤 요구사항1은 \\_\\_init\\_\\_() 으로 구현했다. 요구사항2는 \\_\\_str\\_\\_()에서 format을 사용해 출력 형식에 맞게 구현했다. 요구사항3은 count에 step을 더해주었다. 요구사항4는 \\_\\_call\\_\\_()에서 incr()을 호출하게 만들었다. 요구사항5는 \\_\\_add\\_\\_()와 \\_\\_sub\\_\\_()으로 구현했고 요구사항6은 \\_\\_lt\\_\\_()와 \\_\\_eq\\_\\_()으로 구현했다."
   ]
  },
  {
   "cell_type": "markdown",
   "id": "9cd39186",
   "metadata": {},
   "source": [
    "# 4"
   ]
  },
  {
   "cell_type": "markdown",
   "id": "7d310eca",
   "metadata": {},
   "source": [
    "Myset클래스에서 \\_\\_init\\_\\_은 인자로 받은 자료형의 모든 항목을 self리스트에 넣는다. eliminate_duplicate메소드는 self리스트에서 중복되지 않는 값만 남긴 리스트를 만든다. \\_\\_str\\_\\_은 self를 출력해준다. 예를 들어 설명하자면 s = MySet([1,2,3,4])을 하면 생성자인 \\_\\_init\\_\\_에서 [1,2,3,4]의 모든 요소를 self리스트에 추가한다. 그런 다음 eliminate_duplicate메소드에 self리스트를 인자값으로 전달한다. 그러면 eliminate_duplicate메소드에서 self리스트의 항목을 중복되지 않게 만든 s리스트를 생성한다. 그런 다음 self리스트에 s리스트의 모든 값을 넣는다. print(s)를 하면 \\_\\_str\\_\\_메서드가 호출된다. \\_\\_str\\_\\_메서드에서는 result에 문자열 \"MySet: {\"을 넣고 self리스트의 모든 항목에 대해 문자열로 형변환 한 것과 \" ,\"를 result에 추가한다. 그런 다음 마지막 \" ,\"를 지우기 위해 result[0:len(result)-2]을 해주고 \"}\"를 더해준 걸 result에 넣는다. 마지막으로 result를 반환한다."
   ]
  },
  {
   "cell_type": "markdown",
   "id": "33fb2051",
   "metadata": {},
   "source": [
    "# 5"
   ]
  },
  {
   "cell_type": "code",
   "execution_count": 3,
   "id": "31531c4a",
   "metadata": {},
   "outputs": [],
   "source": [
    "class MySet(list):\n",
    "    def __init__(self, l):\n",
    "        for e in l:\n",
    "            self.append(e)\n",
    "        MySet.eliminate_duplicate(self)\n",
    "    \n",
    "    def __str__(self):\n",
    "        result = \"MySet: {\"\n",
    "        for e in self:\n",
    "            result = result + str(e) + \" ,\"\n",
    "        result = result[0:len(result)-2] + \"}\"\n",
    "        return result\n",
    "\n",
    "    @staticmethod    \n",
    "    def eliminate_duplicate(l):\n",
    "        s = []\n",
    "        for e in l:\n",
    "            if e not in s:\n",
    "                s.append(e)\n",
    "        l[:] = []\n",
    "        for e in s:\n",
    "            l.append(e)\n",
    "            \n",
    "    def __or__(self, l) :\n",
    "        self = set(self)\n",
    "        l = set(l)\n",
    "        self = self|l\n",
    "        return MySet(self)\n",
    "    \n",
    "    def __and__(self, l) :\n",
    "        self = set(self)\n",
    "        l = set(l)\n",
    "        self = self&l\n",
    "        return MySet(self)\n",
    "    \n",
    "    def __sub__(self, l) :\n",
    "        self = set(self)\n",
    "        l = set(l)\n",
    "        self = self-l\n",
    "        return MySet(self)"
   ]
  },
  {
   "cell_type": "code",
   "execution_count": 5,
   "id": "1b9aa852",
   "metadata": {},
   "outputs": [
    {
     "name": "stdout",
     "output_type": "stream",
     "text": [
      "MySet: {1 ,2 ,3}\n",
      "MySet: {2 ,3 ,4 ,5 ,6 ,7 ,8 ,9}\n",
      "MySet: {1 ,2 ,3 ,4 ,5 ,6 ,7 ,8 ,9}\n",
      "MySet: {2 ,3}\n",
      "MySet: {1 ,2}\n"
     ]
    }
   ],
   "source": [
    "if __name__ == \"__main__\":\n",
    "    s = MySet([1, 2, 2, 3])\n",
    "    print(s)\n",
    "    t = MySet([2, 3, 4, 5, 6, 7, 8, 8, 8, 8, 8, 9])\n",
    "    print(t)\n",
    "    u = s|t\n",
    "    print(u)\n",
    "    u = s&t\n",
    "    print(u)\n",
    "    s = MySet([1,2,3])\n",
    "    t = MySet([3,4,5])\n",
    "    u = s-t\n",
    "    print(u)"
   ]
  },
  {
   "cell_type": "markdown",
   "id": "c13bbc42",
   "metadata": {},
   "source": [
    "요구사항1 : \\_\\_or\\_\\_로 합집합을 구현했다. 입력받은 두 self와 l을 set으로 형변환 시켜주고 집합 자료형의 | 연산으로 합집합을 구한다. 그런 다음 MySet형으로 반환한다.<br>\n",
    "요구사항2 : \\_\\_and\\_\\_로 교집합을 구현했다. 입력받은 두 self와 l을 set으로 형변환 시켜 주고 집합 자료형의 & 연산으로 교집합을 구한다. 그런 다음 MySet형으로 반환한다.<br>\n",
    "요구사항3 : \\_\\_sub\\_\\_으로 차집합을 구현했다. 입력받은 두 self와 l을 set으로 형변환 시켜 주고 집합 자료형의 - 연산으로 차집합을 구한다. 그런 다음 MySet형으로 반환한다."
   ]
  },
  {
   "cell_type": "markdown",
   "id": "e0fd2712",
   "metadata": {},
   "source": [
    "# 6"
   ]
  },
  {
   "cell_type": "markdown",
   "id": "fccdb362",
   "metadata": {},
   "source": [
    "내장 함수는 메소드 정의를 하지 않아도 사용이 가능하기 때문에 올바르게 수행된다."
   ]
  },
  {
   "cell_type": "markdown",
   "id": "1f2aa5d5",
   "metadata": {},
   "source": [
    "# Incremental Project 문제"
   ]
  },
  {
   "cell_type": "markdown",
   "id": "c55d2328",
   "metadata": {},
   "source": [
    "# 1"
   ]
  },
  {
   "cell_type": "code",
   "execution_count": 1,
   "id": "2e3fa75f",
   "metadata": {},
   "outputs": [],
   "source": [
    "class SearchEngine() :\n",
    "    def __init__(self, *args) :\n",
    "        self.urlList = list(args)\n",
    "        \n",
    "    def addUrl(self, newUrl) :\n",
    "        self.urlList.append(newUrl)\n",
    "        \n",
    "    def removeUrl(self, url) :\n",
    "        self.urlList.remove(url)\n",
    "        \n",
    "    def listUrls(self) :\n",
    "        for u in self.urlList :\n",
    "            print(u)\n",
    "            \n",
    "    def getWordsFrequency(self) :\n",
    "        import requests\n",
    "\n",
    "        allDict = []\n",
    "\n",
    "        for u in self.urlList :      \n",
    "            req = requests.get(u)\n",
    "\n",
    "            line = req.text\n",
    "\n",
    "            l1 = list(line)\n",
    "\n",
    "            try:\n",
    "                while True :\n",
    "                    i = l1.index('<')\n",
    "\n",
    "                    if l1[i+1] == 's' and l1[i+2] == 'c':\n",
    "                        l1.pop(i)\n",
    "                        while l1[i] != '<' :\n",
    "                            l1.pop(i)\n",
    "                    elif l1[i+1] == 'n' :\n",
    "                        l1.pop(i)\n",
    "                        while not (l1[i] == '<' and l1[i+1] == '/' and l1[i+2] == 'n') :\n",
    "                            l1.pop(i)\n",
    "                    else :\n",
    "                        while l1[i] != '>' : \n",
    "                            l1.pop(i)\n",
    "                        if l1[i] == '>' : \n",
    "                            l1.pop(i)\n",
    "            except: None\n",
    "\n",
    "            try :\n",
    "                while True :\n",
    "                    i = l1.index('\\n')       \n",
    "                    if l1[i] == '\\n' :\n",
    "                        l1.pop(i)\n",
    "            except : None\n",
    "\n",
    "            b = ''.join(l1).split()\n",
    "\n",
    "\n",
    "\n",
    "\n",
    "            import string\n",
    "\n",
    "            newlist = []\n",
    "\n",
    "            for substring in b :\n",
    "                substring2 = ''.join([i for i in substring if i not in string.punctuation])\n",
    "                newlist.append(substring2)\n",
    "\n",
    "            newlist = ' '.join(newlist).split()\n",
    "\n",
    "            worddict = {}\n",
    "            for i in newlist :\n",
    "                if i not in worddict :\n",
    "                    worddict[i] = 1\n",
    "                else :\n",
    "                    num = worddict[i]\n",
    "                    worddict[i] = num + 1\n",
    "\n",
    "            f = open(\"C:\\\\Users\\\\USER\\\\Phyton\\\\stop_words.txt\", \"rt\", encoding='UTF8')\n",
    "            stopword = []\n",
    "            while True :\n",
    "                line = f.readline()\n",
    "                if not line : break\n",
    "                stopword.append(line.strip())\n",
    "            f.close()\n",
    "\n",
    "            for i in list(worddict.keys()) :\n",
    "                for j in stopword :\n",
    "                    if i == j :\n",
    "                        del worddict[i]\n",
    "\n",
    "            allDict.append(worddict)\n",
    "\n",
    "        if allDict == [] :\n",
    "            return {}\n",
    "        \n",
    "        joinDict = allDict[0]\n",
    "        for d in allDict[1:] :\n",
    "            for k in d :\n",
    "                if k in joinDict :\n",
    "                    value = joinDict[k]\n",
    "                    joinDict[k] = value + d[k]\n",
    "                else :\n",
    "                    joinDict[k] = d[k]\n",
    "\n",
    "        return joinDict\n",
    "    \n",
    "    def getMaxFrequencyWords(self) :\n",
    "        if self.getWordsFrequency() == {} :\n",
    "            return None\n",
    "        \n",
    "        import operator\n",
    "        sorted_dict = sorted(self.getWordsFrequency().items(), key=operator.itemgetter(1), reverse=True)\n",
    "        newdict = dict()\n",
    "        newdict[sorted_dict[0][0]] = sorted_dict[0][1]\n",
    "        if sorted_dict[0][1] == sorted_dict[1][1] :\n",
    "            newdict[sorted_dict[1][0]] = sorted_dict[1][1]\n",
    "        return newdict\n",
    "    \n",
    "    def searchUrlByWord(self, searchword) :\n",
    "        sitedict = dict()\n",
    "        dictdict = dict()\n",
    "        \n",
    "        for s in self.urlList :\n",
    "            sitedict[s] = 0\n",
    "            \n",
    "        import requests\n",
    "        \n",
    "        for u in self.urlList :      \n",
    "            req = requests.get(u)\n",
    "\n",
    "            line = req.text\n",
    "\n",
    "            l1 = list(line)\n",
    "\n",
    "            try:\n",
    "                while True :\n",
    "                    i = l1.index('<')\n",
    "\n",
    "                    if l1[i+1] == 's' and l1[i+2] == 'c':\n",
    "                        l1.pop(i)\n",
    "                        while l1[i] != '<' :\n",
    "                            l1.pop(i)\n",
    "                    elif l1[i+1] == 'n' :\n",
    "                        l1.pop(i)\n",
    "                        while not (l1[i] == '<' and l1[i+1] == '/' and l1[i+2] == 'n') :\n",
    "                            l1.pop(i)\n",
    "                    else :\n",
    "                        while l1[i] != '>' : \n",
    "                            l1.pop(i)\n",
    "                        if l1[i] == '>' : \n",
    "                            l1.pop(i)\n",
    "            except: None\n",
    "\n",
    "            try :\n",
    "                while True :\n",
    "                    i = l1.index('\\n')       \n",
    "                    if l1[i] == '\\n' :\n",
    "                        l1.pop(i)\n",
    "            except : None\n",
    "\n",
    "            b = ''.join(l1).split()\n",
    "\n",
    "\n",
    "            import string\n",
    "\n",
    "            newlist = []\n",
    "\n",
    "            for substring in b :\n",
    "                substring2 = ''.join([i for i in substring if i not in string.punctuation])\n",
    "                newlist.append(substring2)\n",
    "\n",
    "            newlist = ' '.join(newlist).split()\n",
    "\n",
    "            worddict = {}\n",
    "            for i in newlist :\n",
    "                if i not in worddict :\n",
    "                    worddict[i] = 1\n",
    "                else :\n",
    "                    num = worddict[i]\n",
    "                    worddict[i] = num + 1\n",
    "\n",
    "            f = open(\"C:\\\\Users\\\\USER\\\\Phyton\\\\stop_words.txt\", \"rt\", encoding='UTF8')\n",
    "            stopword = []\n",
    "            while True :\n",
    "                line = f.readline()\n",
    "                if not line : break\n",
    "                stopword.append(line.strip())\n",
    "            f.close()\n",
    "\n",
    "            for i in list(worddict.keys()) :\n",
    "                for j in stopword :\n",
    "                    if i == j :\n",
    "                        del worddict[i]\n",
    "                        \n",
    "            dictdict[u] = worddict\n",
    "            \n",
    "        for i in range(len(list(dictdict.values()))) :\n",
    "            if searchword in list(list(dictdict.values())[i].keys()) :\n",
    "                #print(list(list(dictdict.values())[i].keys()))\n",
    "                num = sitedict[list(dictdict.keys())[i]]\n",
    "                sitedict[list(dictdict.keys())[i]] = num + list(dictdict.values())[i][searchword]\n",
    "        \n",
    "        import operator\n",
    "        sorted_sitedict = sorted(sitedict.items(), key=operator.itemgetter(1), reverse=True)\n",
    "        \n",
    "        return sorted_sitedict[0][0]"
   ]
  },
  {
   "cell_type": "markdown",
   "id": "2ffdb948",
   "metadata": {},
   "source": [
    "\\_\\_init\\_\\_(), addUrl(), removeUrl(), listUrls()은 리스트의 메소드를 사용하여 간단하게 구현했다. getWordsFrequency()는 Assignment4에서 사이트의 단어사전을 만드는 코드에 그 단어사전들을 합치는 코드를 더해서 구현했고 모든 단어사전을 합친 딕셔너리를 joinDict라고 지었다. getMaxFrequencyWords()는 joinDict를 리스트 튜플 내림차순으로 정렬했고 빈도수가 제일 큰 첫번째 항목을 반환했다. searchUrlByWord()은 Assignment4에서 검색어를 입력했을 때 유사도가 높은 순으로 url을 출력하는 코드를 참고해서 유사도가 제일 높은 url을 반환하게 구현했다."
   ]
  },
  {
   "cell_type": "markdown",
   "id": "ed3fceca",
   "metadata": {},
   "source": [
    "# 2, 3"
   ]
  },
  {
   "cell_type": "code",
   "execution_count": 2,
   "id": "4839d677",
   "metadata": {},
   "outputs": [],
   "source": [
    "class SearchEngineWithOrderedWebWords(SearchEngine) :\n",
    "    def __init__(self, *args) :\n",
    "        super(SearchEngineWithOrderedWebWords, self).__init__(*args)\n",
    "        self.sorted_dict = []\n",
    "    \n",
    "        import requests\n",
    "\n",
    "        #urlList = ['https://programmers.co.kr/', 'https://www.kakaocorp.com/', 'https://www.mexicana.co.kr/main']\n",
    "        #urlList = self.urlList\n",
    "        allDict = []\n",
    "\n",
    "        for u in self.urlList :      \n",
    "            req = requests.get(u)\n",
    "\n",
    "            line = req.text\n",
    "\n",
    "            l1 = list(line)\n",
    "\n",
    "            try:\n",
    "                while True :\n",
    "                    i = l1.index('<')\n",
    "\n",
    "                    if l1[i+1] == 's' and l1[i+2] == 'c':\n",
    "                        l1.pop(i)\n",
    "                        while l1[i] != '<' :\n",
    "                            l1.pop(i)\n",
    "                    elif l1[i+1] == 'n' :\n",
    "                        l1.pop(i)\n",
    "                        while not (l1[i] == '<' and l1[i+1] == '/' and l1[i+2] == 'n') :\n",
    "                            l1.pop(i)\n",
    "                    else :\n",
    "                        while l1[i] != '>' : \n",
    "                            l1.pop(i)\n",
    "                        if l1[i] == '>' : \n",
    "                            l1.pop(i)\n",
    "            except: None\n",
    "\n",
    "            try :\n",
    "                while True :\n",
    "                    i = l1.index('\\n')       \n",
    "                    if l1[i] == '\\n' :\n",
    "                        l1.pop(i)\n",
    "            except : None\n",
    "\n",
    "            b = ''.join(l1).split()\n",
    "\n",
    "\n",
    "\n",
    "\n",
    "            import string\n",
    "\n",
    "            newlist = []\n",
    "\n",
    "            for substring in b :\n",
    "                substring2 = ''.join([i for i in substring if i not in string.punctuation])\n",
    "                newlist.append(substring2)\n",
    "\n",
    "            newlist = ' '.join(newlist).split()\n",
    "\n",
    "            worddict = {}\n",
    "            for i in newlist :\n",
    "                if i not in worddict :\n",
    "                    worddict[i] = 1\n",
    "                else :\n",
    "                    num = worddict[i]\n",
    "                    worddict[i] = num + 1\n",
    "\n",
    "            f = open(\"C:\\\\Users\\\\USER\\\\Phyton\\\\stop_words.txt\", \"rt\", encoding='UTF8')\n",
    "            stopword = []\n",
    "            while True :\n",
    "                line = f.readline()\n",
    "                if not line : break\n",
    "                stopword.append(line.strip())\n",
    "            f.close()\n",
    "\n",
    "            for i in list(worddict.keys()) :\n",
    "                for j in stopword :\n",
    "                    if i == j :\n",
    "                        del worddict[i]\n",
    "\n",
    "            allDict.append(worddict)\n",
    "\n",
    "        if allDict == [] :\n",
    "            return {}\n",
    "        \n",
    "        joinDict = allDict[0]\n",
    "        for d in allDict[1:] :\n",
    "            for k in d :\n",
    "                if k in joinDict :\n",
    "                    value = joinDict[k]\n",
    "                    joinDict[k] = value + d[k]\n",
    "                else :\n",
    "                    joinDict[k] = d[k]\n",
    "                    \n",
    "        import operator\n",
    "        self.sorted_dict = sorted(joinDict.items(), key=operator.itemgetter(1), reverse=True)\n",
    "        \n",
    "        \n",
    "    def getWordsFrequency(self, reverse = 'false') :\n",
    "        import operator\n",
    "        \n",
    "        if reverse == 'false' :\n",
    "            return self.sorted_dict\n",
    "        elif reverse == 'true' :\n",
    "            reverse_sorted_dict = sorted(self.sorted_dict, key = operator.itemgetter(1), reverse=False)\n",
    "            return reverse_sorted_dict\n",
    "        \n",
    "    def __iter__(self) :\n",
    "        self.current = 0\n",
    "        return self\n",
    "    \n",
    "    def __next__(self) :\n",
    "        if self.current < len(self.sorted_dict) :\n",
    "            self.current += 1\n",
    "            return self.sorted_dict[self.current - 1]\n",
    "        else :\n",
    "            raise StopIteration\n"
   ]
  },
  {
   "cell_type": "markdown",
   "id": "70195be5",
   "metadata": {},
   "source": [
    "위 클래스는 \\_\\_init\\_\\_에서 getWordsFrequency()를 호출할 때의 반환값 self.sorted_dict를 만든다. 그 과정은 SearchEngine클래스의 getWordsFrequency()에 사전을 리스트 튜플의 형태로 정렬하는 과정만 더했다. getWordsFrequency()는 reverse의 인자값에 따라 디폴트 값인 false이면 self.sorted_dict를 반환하고 true이면 오름차순으로 정렬한 뒤 반환한다. 반복자 관련 메소드로는 \\_\\_iter\\_\\_ 과 \\_\\_next\\_\\_를 만들었다."
   ]
  },
  {
   "cell_type": "markdown",
   "id": "877896e5",
   "metadata": {},
   "source": [
    "Incremental Project 문제를 4개의 과제를 통해 진행했는데 결과물이 나온 걸 보니 나름 뿌듯했다. 근데 코드가 아직 효율적으로 보이진 않기 때문에 파이썬을 더 공부하고 알고리즘 공부를 해야겠다."
   ]
  }
 ],
 "metadata": {
  "kernelspec": {
   "display_name": "Python 3",
   "language": "python",
   "name": "python3"
  },
  "language_info": {
   "codemirror_mode": {
    "name": "ipython",
    "version": 3
   },
   "file_extension": ".py",
   "mimetype": "text/x-python",
   "name": "python",
   "nbconvert_exporter": "python",
   "pygments_lexer": "ipython3",
   "version": "3.8.8"
  }
 },
 "nbformat": 4,
 "nbformat_minor": 5
}
