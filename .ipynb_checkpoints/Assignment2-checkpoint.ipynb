{
 "cells": [
  {
   "cell_type": "markdown",
   "id": "025c974e",
   "metadata": {},
   "source": [
    "# 1번"
   ]
  },
  {
   "cell_type": "markdown",
   "id": "a4d37271",
   "metadata": {},
   "source": [
    "1 and 2 and 3 and 4 : 앞의 코드는 논리 연산을 따라 최종적으로 평가되어진 값이 반환된다.\n",
    "and는 모두 True여야 결과가 True가 되기 때문에 마지막으로 평가되는 4가 반환된다.\n",
    "\n",
    "1 or 2 or 3 or 4 : or는 전체에서 하나만 True여도 결과가 True이기 때문에 첫번째인 1이 True여서 \n",
    "1이 반환된다.\n",
    "\n",
    "1 and 2 or 3 and 4 : 처음에 1 and 2에서 2가 반환된다. 그 다음으로 2 or 3인데, \n",
    "or는 둘 중 앞의 것이 True이면 앞의 것이 반환되기 때문에 2가 반환되고\n",
    "3까지 가지 않아서 여기까지만 평가하고 뒤는 평가하지 않는다. 그리고 최종적으로 2가 반환된다.\n",
    "\n",
    "(1 and 2) or (3 and 4) : 1 and 2의 결과는 2이고 3 and 4의 결과는 4인데, 2 or 4의 결과는 2여서 \n",
    "2가 반환된다.\n",
    "\n",
    "1 or 2 and 3 or 4 : 처음에 1 or 2를 평가할 때 1에서 True가 되기 때문에 2까지 가지 않아서\n",
    "뒤는 평가하지 않고 최종적으로 1이 반환된다.\n",
    "\n",
    "(1 or 2) and (3 or 4) : 1 or 2의 결과는 1이고 3 or 4의 결과는 3인데, 1 and 3의 결과는 3이어서 \n",
    "3이 반환된다."
   ]
  },
  {
   "cell_type": "markdown",
   "id": "47ec2f59",
   "metadata": {},
   "source": [
    "# 2번"
   ]
  },
  {
   "cell_type": "code",
   "execution_count": 1,
   "id": "1161c99e",
   "metadata": {},
   "outputs": [
    {
     "name": "stdout",
     "output_type": "stream",
     "text": [
      "['/home/chulsoo', 'test.txt']\n",
      "['/usr/local/bin', 'python']\n"
     ]
    }
   ],
   "source": [
    "def div_path(s) :\n",
    "    index = s.rfind('/')\n",
    "    list = [0,0]\n",
    "    list[0] = s[:index]\n",
    "    list[1] = s[index+1:]\n",
    "    return list\n",
    "\n",
    "print(div_path('/home/chulsoo/test.txt'))\n",
    "print(div_path('/usr/local/bin/python'))"
   ]
  },
  {
   "cell_type": "markdown",
   "id": "a038f546",
   "metadata": {},
   "source": [
    "입력받은 문자열에서 가장 오른쪽의 /로 경로와 파일명이 분리되기 때문에 rfind함수를 통해 가장 오른쪽 /의 인덱스를 알아내고 index에 저장한다. list를 만들고 list[0]에는 문자열의 처음부터 index전까지를 저장하고 list[1]에는 문자열의 index+1부터 끝까지를 저장하고 list를 반환한다."
   ]
  },
  {
   "cell_type": "markdown",
   "id": "2ec4c62b",
   "metadata": {},
   "source": [
    "# 3번"
   ]
  },
  {
   "cell_type": "code",
   "execution_count": 2,
   "id": "3b78a9af",
   "metadata": {},
   "outputs": [
    {
     "name": "stdout",
     "output_type": "stream",
     "text": [
      "[1, 2, 3, 4]\n",
      "[-10, -5, -1, 0, 9, 100]\n",
      "[0, 1, 2]\n"
     ]
    }
   ],
   "source": [
    "def list_union(lista, listb) :\n",
    "    list = lista\n",
    "    for i in listb :\n",
    "        if i not in list :\n",
    "            list.append(i)\n",
    "    list.sort()\n",
    "    return list\n",
    "\n",
    "print(list_union([1,2,3],[1,2,4]))\n",
    "print(list_union([-10,-5,0,-1],[100,9,0,9]))\n",
    "print(list_union([0,1,2],[0,1,2]))"
   ]
  },
  {
   "cell_type": "markdown",
   "id": "c79b9f50",
   "metadata": {},
   "source": [
    "함수 안에 새로운 리스트 list를 만들고 입력받은 lista를 저장한다. 그리고 for문과 if문을 통해 listb의 요소가 list에 없는지 확인하고 없으면 append함수를 통해 list에 추가한다. 다 추가했으면 list를 정렬하고 반환한다."
   ]
  },
  {
   "cell_type": "markdown",
   "id": "9a2666fc",
   "metadata": {},
   "source": [
    "# 4번"
   ]
  },
  {
   "cell_type": "code",
   "execution_count": 5,
   "id": "76bcbab9",
   "metadata": {},
   "outputs": [
    {
     "name": "stdout",
     "output_type": "stream",
     "text": [
      "[1, 2]\n",
      "[0]\n",
      "[0, 1, 2]\n",
      "\n",
      "[3]\n",
      "[-10, -5, -1]\n",
      "[]\n"
     ]
    }
   ],
   "source": [
    "def list_intersection(lista, listb) :\n",
    "    list = []\n",
    "    for i in lista :\n",
    "        if i in listb :\n",
    "            list.append(i)\n",
    "    list.sort()\n",
    "    return list\n",
    "\n",
    "print(list_intersection([1,2,3],[1,2,4]))\n",
    "print(list_intersection([-10,-5,0,-1],[100,9,0,9]))\n",
    "print(list_intersection([0,1,2],[0,1,2]))\n",
    "print()\n",
    "\n",
    "def list_difference(lista, listb) :\n",
    "    list = []\n",
    "    for i in lista :\n",
    "        if i not in listb :\n",
    "            list.append(i)\n",
    "    list.sort()\n",
    "    return list\n",
    "\n",
    "print(list_difference([1,2,3],[1,2,4]))\n",
    "print(list_difference([-10,-5,0,-1],[100,9,0,9]))\n",
    "print(list_difference([0,1,2],[0,1,2]))"
   ]
  },
  {
   "cell_type": "markdown",
   "id": "e3dd62e0",
   "metadata": {},
   "source": [
    "교집합 함수는 우선 새로운 리스트 list를 만들고 for문과 if문을 통해 lista의 요소가 listb에도 있으면 list에 추가한다. 그리고 list를 정렬하고 반환한다. 차집합 함수는 새로운 리스트 list를 만들고 for문과 if문을 통해 lista의 요소가 listb에 없으면 list에 추가한다. 그리고 list를 정렬하고 반환한다."
   ]
  },
  {
   "cell_type": "markdown",
   "id": "dc31b93c",
   "metadata": {},
   "source": [
    "# 5번"
   ]
  },
  {
   "cell_type": "code",
   "execution_count": 8,
   "id": "55e0c0f3",
   "metadata": {},
   "outputs": [
    {
     "name": "stdout",
     "output_type": "stream",
     "text": [
      "2 이상 10 이하 정수 중 소수 리스트 : [2, 3, 5, 7]\n"
     ]
    }
   ],
   "source": [
    "def print_primenumber(a,b) :\n",
    "    list = []\n",
    "    start = 0\n",
    "    end = 0\n",
    "    if a > b :\n",
    "        a,b = b, a\n",
    "    start = a\n",
    "    end = b\n",
    "        \n",
    "    if start == 1 :\n",
    "        start = 2\n",
    "    \n",
    "    if b == 1 :\n",
    "        print(\"존재하지 않습니다\")\n",
    "    else :\n",
    "        for i in range(start,end+1) :\n",
    "            for k in range(2, i+1) :\n",
    "                if i % k == 0 :\n",
    "                    break           \n",
    "            if i == k : \n",
    "                list.append(i)\n",
    "        if len(list) == 0 :\n",
    "            print(\"존재하지 않습니다\")\n",
    "        else :\n",
    "            print(\"{} 이상 {} 이하 정수 중 소수 리스트 : {}\".format(a, b, list))\n",
    "        \n",
    "    \n",
    "print_primenumber(2,10)"
   ]
  },
  {
   "cell_type": "markdown",
   "id": "5d04d397",
   "metadata": {},
   "source": [
    "입력받은 a,b에서 둘 중 작은 수를 a에 저장하고 큰 수를 b에 저장한다. 그리고 start에 a를 저장하고 end에 b를 저장한다. 그 뒤에 start가 1이면 start를 2로 만든다. 왜냐하면 소수를 구하는 과정에서 start가 1이면 i가 1일 때 k가 range(2,2)가 되어 값이 할당되지 않아 i==k에서 오류가 생기기 때문이다. 그 다음에는 소수를 구하는데, b가 1인 경우, 즉 a,b 모두 1인 경우는 소수가 없으므로 존재하지 않는다고 출력한다. 앞의 경우가 아닌 경우에 이제 진짜 소수를 구한다. 만약 start가 2이고 end가 10인 경우에 i에는 range(2,11)이 들어아고 k에는 range(2,i+1)이 들어간다. i가 2인 경우에 i%k가 0이 되는 경우는 i=k=2인 경우이므로 list에 추가된다. 이런식으로 모두 for문을 돌리고 나면 범위 안의 모든 소수가 list에 들어간다. list가 비어있으면 소수가 없다는 뜻이므로 존재하지 않는다고 출력하고 list가 비어있지 않으면 소수 리스트를 출력한다."
   ]
  },
  {
   "cell_type": "markdown",
   "id": "f15f7410",
   "metadata": {},
   "source": [
    "# Incremental Project 문제"
   ]
  },
  {
   "cell_type": "code",
   "execution_count": 3,
   "id": "9fc0f2b3",
   "metadata": {},
   "outputs": [
    {
     "name": "stdout",
     "output_type": "stream",
     "text": [
      "113\n"
     ]
    }
   ],
   "source": [
    "import requests\n",
    "\n",
    "req = requests.get('https://programmers.co.kr/')\n",
    "#req = requests.get('https://www.acmicpc.net/')\n",
    "\n",
    "line = req.text\n",
    "\n",
    "#print(line)\n",
    "\n",
    "l1 = list(line)\n",
    "\n",
    "try:\n",
    "    while True :\n",
    "        i = l1.index('<')\n",
    "        \n",
    "        if l1[i+1] == 's' and l1[i+2] == 'c':\n",
    "            l1.pop(i)\n",
    "            while l1[i] != '<' :\n",
    "                l1.pop(i)\n",
    "        elif l1[i+1] == 'n' :\n",
    "            l1.pop(i)\n",
    "            while not (l1[i] == '<' and l1[i+1] == '/' and l1[i+2] == 'n') :\n",
    "                l1.pop(i)\n",
    "        else :\n",
    "            while l1[i] != '>' : \n",
    "                l1.pop(i)\n",
    "            if l1[i] == '>' : \n",
    "                l1.pop(i)\n",
    "except: None\n",
    "\n",
    "    \n",
    "try :\n",
    "    while True :\n",
    "        i = l1.index('\\n')       \n",
    "        if l1[i] == '\\n' :\n",
    "            l1.pop(i)\n",
    "except : None\n",
    "            \n",
    "b = ''.join(l1).split()\n",
    "\n",
    "print(len(b))\n"
   ]
  },
  {
   "cell_type": "markdown",
   "id": "482ec083",
   "metadata": {},
   "source": [
    "일단 처음에 가져온 페이지 소스를 리스트로 만들었다. 그리고 첫번째 try-except문에서 '<'로 시작하는 인덱스 i를 가져오고 i번째에서 다음이 's', 그 다음이 'c'이면 '<'가 나올때까지 pop을 하는데 이는 <script>로 시작해서 </script>로 끝나는 걸 지우기 위함이다. 그 다음은 i번째에서 다음이 'n'이면 '<', '/', 'n'이 나올 때가지 pop을 하는데 이는 <noscript>로 시작해서 </noscript>로 끝나는 걸 지우기 위함이다. 마지막은 '<'로 시작해서'>'이 나올 때까지 pop하는데 이는 '<'로 시작해서 '>'로 끝나는 걸 지우기 위함이다. 두번째 try-except문에서는 '\\n'을 지우기 위해 썼다. 그 다음에 b = ''.join(l1).split()로 빈 문자열인 ''을 지웠다. 이제 리스트에 순수 문자열이 공백을 기준으로 나뉘어져 있으니 이 리스트의 길이를 출력했다.\n",
    "\n",
    "예시 2개가 https://programmers.co.kr/, 'https://www.acmicpc.net/ 이거인데, 하나는 주석처리 해놓았다."
   ]
  },
  {
   "cell_type": "markdown",
   "id": "147c1a31",
   "metadata": {},
   "source": [
    "1번~5번은 천천히 생각해보면 풀 수 있어서 나름 금방 풀었는데 마지막 Incremental Project 문제는 생각보다 어려워서 푸는데 엄청 오래 걸렸다. 처음에는 문자열로 풀다가 도저히 안되겠어서 리스트로 바꾸어서 풀었다. 그래서 시간이 아주 오래 걸렸다. 쓰고 보니 복잡하거나 어려운 코드는 아니다. 이런 문제를 더 잘 풀 수 있게 더 노력해야겠다."
   ]
  }
 ],
 "metadata": {
  "kernelspec": {
   "display_name": "Python 3",
   "language": "python",
   "name": "python3"
  },
  "language_info": {
   "codemirror_mode": {
    "name": "ipython",
    "version": 3
   },
   "file_extension": ".py",
   "mimetype": "text/x-python",
   "name": "python",
   "nbconvert_exporter": "python",
   "pygments_lexer": "ipython3",
   "version": "3.8.8"
  }
 },
 "nbformat": 4,
 "nbformat_minor": 5
}
