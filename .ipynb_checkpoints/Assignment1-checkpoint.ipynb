{
 "cells": [
  {
   "cell_type": "markdown",
   "id": "744d7616",
   "metadata": {},
   "source": [
    "1번"
   ]
  },
  {
   "cell_type": "code",
   "execution_count": 1,
   "id": "f011d2fa",
   "metadata": {},
   "outputs": [
    {
     "name": "stdout",
     "output_type": "stream",
     "text": [
      "Python Hello\n"
     ]
    }
   ],
   "source": [
    "a = \"Hello Python\"\n",
    "a = a[6:] + ' ' + a[:5]\n",
    "print(a)"
   ]
  },
  {
   "cell_type": "markdown",
   "id": "3e1d827a",
   "metadata": {},
   "source": [
    "설명"
   ]
  },
  {
   "cell_type": "markdown",
   "id": "8ae5a4e7",
   "metadata": {},
   "source": [
    "2번"
   ]
  },
  {
   "cell_type": "code",
   "execution_count": 2,
   "id": "ba375b41",
   "metadata": {},
   "outputs": [
    {
     "name": "stdout",
     "output_type": "stream",
     "text": [
      "World Python Hello\n"
     ]
    }
   ],
   "source": [
    "b = \"Hello Python World\"\n",
    "b = b[13:] + ' ' + b[6:12] + ' ' + b[:5]\n",
    "print(b)"
   ]
  },
  {
   "cell_type": "markdown",
   "id": "f9b5b83f",
   "metadata": {},
   "source": [
    "설명"
   ]
  },
  {
   "cell_type": "markdown",
   "id": "babea691",
   "metadata": {},
   "source": [
    "3번"
   ]
  },
  {
   "cell_type": "code",
   "execution_count": 3,
   "id": "09bdcded",
   "metadata": {},
   "outputs": [
    {
     "name": "stdout",
     "output_type": "stream",
     "text": [
      "olleH\n"
     ]
    }
   ],
   "source": [
    "c = \"Hello\"\n",
    "c = c[::-1]\n",
    "print(c)"
   ]
  },
  {
   "cell_type": "markdown",
   "id": "aed42581",
   "metadata": {},
   "source": [
    "설명"
   ]
  },
  {
   "cell_type": "markdown",
   "id": "623fa5ae",
   "metadata": {},
   "source": [
    "4번"
   ]
  },
  {
   "cell_type": "markdown",
   "id": "1e5e1311",
   "metadata": {},
   "source": [
    "A : s[0], s[0][0], s[0][0][0]을 출력하면 모두 p가 나온다. 일단 s[0]은 문자열의 0번째 문자를 뜻하므로 p가 출력된다. s[0][0]은 s[0]과 위치상으로 같으니 p가 출력되는 것이라 생각한다. s[0][0][0]도 마찬가지로 s[0]과 위치상으로 같으니 p가 출력되는 것이라 생각한다.\n",
    "\n",
    "B : s[-100], s[100] 모두 에러가 나온다. 이때 뜨는 에러 메세지는 \"string index out of range\"인데, 이는 범위 밖의 인덱스를 가져올 때 뜬다. 이 문자열은 [-6]에서[5]까지만 출력할 수 있으므로 [-100]과 [100]일 때는 범위 밖이므로 오류가 뜨는 것이라 생각한다.\n",
    "\n",
    "C : 오류가 뜬다. 이때 뜨는 에러 메세지는 \"string indices must be integers\"이다. -100과 100 모두 정수지만 -100, 100으로 표현한 건 정수가 아니기 때문에 오류가 난다고 생각한다.\n",
    "\n",
    "D : s[1]이 y이고 s[-1]이 n이기 때문에 y부터 n전까지 출력된다. 그래서 ytho가 출력된다.\n",
    "\n",
    "E : s[3]은 h고 s[-3]도 h이기 때문에 h부터 h전까지의 문자는 없다. 그래서 아무것도 출력되지 않는다.\n",
    "\n",
    "​"
   ]
  },
  {
   "cell_type": "markdown",
   "id": "54d9efa5",
   "metadata": {},
   "source": [
    "5번"
   ]
  },
  {
   "cell_type": "code",
   "execution_count": 5,
   "id": "afd07e14",
   "metadata": {},
   "outputs": [
    {
     "name": "stdout",
     "output_type": "stream",
     "text": [
      "1\n",
      "3\n",
      "5\n",
      "7\n",
      "9\n",
      "11\n",
      "13\n",
      "15\n",
      "17\n",
      "19\n",
      "21\n",
      "23\n",
      "25\n",
      "27\n",
      "29\n",
      "31\n",
      "33\n",
      "35\n",
      "37\n",
      "39\n",
      "41\n",
      "43\n",
      "45\n",
      "47\n",
      "49\n",
      "51\n",
      "53\n",
      "55\n",
      "57\n",
      "59\n",
      "61\n",
      "63\n",
      "65\n",
      "67\n",
      "69\n",
      "71\n",
      "73\n",
      "75\n",
      "77\n",
      "79\n",
      "81\n",
      "83\n",
      "85\n",
      "87\n",
      "89\n",
      "91\n",
      "93\n",
      "95\n",
      "97\n",
      "99\n"
     ]
    }
   ],
   "source": [
    "for i in range(1,100) :\n",
    "    if i%2==1 :\n",
    "        print(i)"
   ]
  },
  {
   "cell_type": "markdown",
   "id": "4654ad9e",
   "metadata": {},
   "source": [
    "설명"
   ]
  },
  {
   "cell_type": "markdown",
   "id": "f09f9911",
   "metadata": {},
   "source": [
    "6번"
   ]
  },
  {
   "cell_type": "code",
   "execution_count": 6,
   "id": "c6d9c043",
   "metadata": {},
   "outputs": [
    {
     "name": "stdout",
     "output_type": "stream",
     "text": [
      "2550\n"
     ]
    }
   ],
   "source": [
    "sum, i = 0, 0\n",
    "while i<100 :\n",
    "    i += 1\n",
    "    if i%2 == 0 :\n",
    "        sum += i\n",
    "print(sum)"
   ]
  },
  {
   "cell_type": "markdown",
   "id": "166c2b53",
   "metadata": {},
   "source": [
    "설명"
   ]
  },
  {
   "cell_type": "markdown",
   "id": "6866fae3",
   "metadata": {},
   "source": [
    "7번"
   ]
  },
  {
   "cell_type": "code",
   "execution_count": 7,
   "id": "1fa7036d",
   "metadata": {},
   "outputs": [
    {
     "name": "stdout",
     "output_type": "stream",
     "text": [
      "정수를 입력하세요: 3125\n",
      "숫자 역순은 5213 입니다.\n"
     ]
    }
   ],
   "source": [
    "num = input(\"정수를 입력하세요: \")\n",
    "print(\"숫자 역순은 \" + num[::-1] + \" 입니다.\")"
   ]
  },
  {
   "cell_type": "markdown",
   "id": "d57c9619",
   "metadata": {},
   "source": [
    "설명"
   ]
  },
  {
   "cell_type": "markdown",
   "id": "15162031",
   "metadata": {},
   "source": [
    "8번"
   ]
  },
  {
   "cell_type": "code",
   "execution_count": 8,
   "id": "6114f226",
   "metadata": {},
   "outputs": [
    {
     "name": "stdout",
     "output_type": "stream",
     "text": [
      "정수를 입력하시오: 10\n",
      "2\n",
      "3\n",
      "5\n",
      "7\n"
     ]
    }
   ],
   "source": [
    "num = int(input(\"정수를 입력하시오: \"))\n",
    "if num == 1 :\n",
    "    print(\"존재하지 않습니다.\")\n",
    "elif num > 1 :\n",
    "    for i in range(2,num+1) :\n",
    "        for n in range(2,num+1) :\n",
    "            if i%n==0 :\n",
    "                break\n",
    "        if i==n :\n",
    "            print(i)"
   ]
  },
  {
   "cell_type": "markdown",
   "id": "586b29e5",
   "metadata": {},
   "source": [
    "설명"
   ]
  },
  {
   "cell_type": "code",
   "execution_count": null,
   "id": "d1d1816e",
   "metadata": {},
   "outputs": [],
   "source": []
  }
 ],
 "metadata": {
  "kernelspec": {
   "display_name": "Python 3",
   "language": "python",
   "name": "python3"
  },
  "language_info": {
   "codemirror_mode": {
    "name": "ipython",
    "version": 3
   },
   "file_extension": ".py",
   "mimetype": "text/x-python",
   "name": "python",
   "nbconvert_exporter": "python",
   "pygments_lexer": "ipython3",
   "version": "3.8.8"
  }
 },
 "nbformat": 4,
 "nbformat_minor": 5
}
