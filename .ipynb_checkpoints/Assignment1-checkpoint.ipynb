{
 "cells": [
  {
   "cell_type": "markdown",
   "id": "744d7616",
   "metadata": {},
   "source": [
    "# 1번"
   ]
  },
  {
   "cell_type": "code",
   "execution_count": 1,
   "id": "f011d2fa",
   "metadata": {},
   "outputs": [
    {
     "name": "stdout",
     "output_type": "stream",
     "text": [
      "Python Hello\n"
     ]
    }
   ],
   "source": [
    "a = \"Hello Python\"\n",
    "a = a[6:] + ' ' + a[:5]\n",
    "print(a)"
   ]
  },
  {
   "cell_type": "markdown",
   "id": "3e1d827a",
   "metadata": {},
   "source": [
    "문자열 a의 [6]에서 마지막까지의 문자열과 공백 그리고 처음부터 [5]전까지의 문자열을 더해서 a에 저장한 뒤 출력했다."
   ]
  },
  {
   "cell_type": "markdown",
   "id": "8ae5a4e7",
   "metadata": {},
   "source": [
    "# 2번"
   ]
  },
  {
   "cell_type": "code",
   "execution_count": 2,
   "id": "ba375b41",
   "metadata": {},
   "outputs": [
    {
     "name": "stdout",
     "output_type": "stream",
     "text": [
      "World Python Hello\n"
     ]
    }
   ],
   "source": [
    "b = \"Hello Python World\"\n",
    "b = b[13:] + ' ' + b[6:12] + ' ' + b[:5]\n",
    "print(b)"
   ]
  },
  {
   "cell_type": "markdown",
   "id": "f9b5b83f",
   "metadata": {},
   "source": [
    "문자열 b의 [13]에서 마지막까지의 문자열, 공백, [6]에서 [12]전까지의 문자열, 공백, 처음부터 [5]전까지의 문자열을 모두 더해서 b에 저장한 뒤 출력했다."
   ]
  },
  {
   "cell_type": "markdown",
   "id": "babea691",
   "metadata": {},
   "source": [
    "# 3번"
   ]
  },
  {
   "cell_type": "code",
   "execution_count": 3,
   "id": "09bdcded",
   "metadata": {},
   "outputs": [
    {
     "name": "stdout",
     "output_type": "stream",
     "text": [
      "olleH\n"
     ]
    }
   ],
   "source": [
    "c = \"Hello\"\n",
    "c = c[::-1]\n",
    "print(c)"
   ]
  },
  {
   "cell_type": "markdown",
   "id": "aed42581",
   "metadata": {},
   "source": [
    "[::-1]을 하면 문자열의 처음부터 끝까지를 -1씩 증감한다는 의미니까 문자열이 거꾸로 된다."
   ]
  },
  {
   "cell_type": "markdown",
   "id": "623fa5ae",
   "metadata": {},
   "source": [
    "# 4번"
   ]
  },
  {
   "cell_type": "markdown",
   "id": "1e5e1311",
   "metadata": {},
   "source": [
    "A : s[0], s[0][0], s[0][0][0]을 출력하면 모두 p가 나온다. 일단 s[0]은 문자열의 0번째 문자를 뜻하므로 p가 출력된다. s[0][0]은 s[0]과 위치상으로 같으니 p가 출력되는 것이라 생각한다. s[0][0][0]도 마찬가지로 s[0]과 위치상으로 같으니 p가 출력되는 것이라 생각한다.\n",
    "\n",
    "B : s[-100], s[100] 모두 에러가 나온다. 이때 뜨는 에러 메세지는 \"string index out of range\"인데, 이는 범위 밖의 인덱스를 가져올 때 뜬다. 이 문자열은 [-6]에서[5]까지만 출력할 수 있으므로 [-100]과 [100]일 때는 범위 밖이므로 오류가 뜨는 것이라 생각한다.\n",
    "\n",
    "C : 오류가 뜬다. 이때 뜨는 에러 메세지는 \"string indices must be integers\"이다. -100과 100 모두 정수지만 -100, 100으로 표현한 건 정수가 아니기 때문에 오류가 난다고 생각한다.\n",
    "\n",
    "D : s[1]이 y이고 s[-1]이 n이기 때문에 y부터 n전까지 출력된다. 그래서 ytho가 출력된다.\n",
    "\n",
    "E : s[3]은 h고 s[-3]도 h이기 때문에 h부터 h전까지의 문자는 없다. 그래서 아무것도 출력되지 않는다.\n",
    "\n",
    "​"
   ]
  },
  {
   "cell_type": "markdown",
   "id": "54d9efa5",
   "metadata": {},
   "source": [
    "# 5번"
   ]
  },
  {
   "cell_type": "code",
   "execution_count": 5,
   "id": "afd07e14",
   "metadata": {},
   "outputs": [
    {
     "name": "stdout",
     "output_type": "stream",
     "text": [
      "1\n",
      "3\n",
      "5\n",
      "7\n",
      "9\n",
      "11\n",
      "13\n",
      "15\n",
      "17\n",
      "19\n",
      "21\n",
      "23\n",
      "25\n",
      "27\n",
      "29\n",
      "31\n",
      "33\n",
      "35\n",
      "37\n",
      "39\n",
      "41\n",
      "43\n",
      "45\n",
      "47\n",
      "49\n",
      "51\n",
      "53\n",
      "55\n",
      "57\n",
      "59\n",
      "61\n",
      "63\n",
      "65\n",
      "67\n",
      "69\n",
      "71\n",
      "73\n",
      "75\n",
      "77\n",
      "79\n",
      "81\n",
      "83\n",
      "85\n",
      "87\n",
      "89\n",
      "91\n",
      "93\n",
      "95\n",
      "97\n",
      "99\n"
     ]
    }
   ],
   "source": [
    "for i in range(1,100) :\n",
    "    if i%2==1 :\n",
    "        print(i)"
   ]
  },
  {
   "cell_type": "markdown",
   "id": "4654ad9e",
   "metadata": {},
   "source": [
    "1부터 100전까지 반복하는데, 2로 나누었을 때 나머지가 1이면 출력하도록 하였다. 어차피 홀수를 출력하는 것이기 때문에 (1, 100)에서 100이 포함되지 않아도 신경쓰지 않았다."
   ]
  },
  {
   "cell_type": "markdown",
   "id": "f09f9911",
   "metadata": {},
   "source": [
    "# 6번"
   ]
  },
  {
   "cell_type": "code",
   "execution_count": 6,
   "id": "c6d9c043",
   "metadata": {},
   "outputs": [
    {
     "name": "stdout",
     "output_type": "stream",
     "text": [
      "2550\n"
     ]
    }
   ],
   "source": [
    "sum, i = 0, 0\n",
    "while i<100 :\n",
    "    i += 1\n",
    "    if i%2 == 0 :\n",
    "        sum += i\n",
    "print(sum)"
   ]
  },
  {
   "cell_type": "markdown",
   "id": "166c2b53",
   "metadata": {},
   "source": [
    "1부터 100까지 100번을 반복하는데, 2로 나누었을 때 나머지가 0이면 sum에 더하도록 하였다."
   ]
  },
  {
   "cell_type": "markdown",
   "id": "6866fae3",
   "metadata": {},
   "source": [
    "# 7번"
   ]
  },
  {
   "cell_type": "code",
   "execution_count": 7,
   "id": "1fa7036d",
   "metadata": {},
   "outputs": [
    {
     "name": "stdout",
     "output_type": "stream",
     "text": [
      "정수를 입력하세요: 3125\n",
      "숫자 역순은 5213 입니다.\n"
     ]
    }
   ],
   "source": [
    "num = input(\"정수를 입력하세요: \")\n",
    "print(\"숫자 역순은 \" + num[::-1] + \" 입니다.\")"
   ]
  },
  {
   "cell_type": "markdown",
   "id": "d57c9619",
   "metadata": {},
   "source": [
    "입력받은 수를 num에 문자열로 저장하고 3번과 같은 방식으로 역순으로 출력하게 했다."
   ]
  },
  {
   "cell_type": "markdown",
   "id": "15162031",
   "metadata": {},
   "source": [
    "# 8번"
   ]
  },
  {
   "cell_type": "code",
   "execution_count": 8,
   "id": "6114f226",
   "metadata": {},
   "outputs": [
    {
     "name": "stdout",
     "output_type": "stream",
     "text": [
      "정수를 입력하시오: 10\n",
      "2\n",
      "3\n",
      "5\n",
      "7\n"
     ]
    }
   ],
   "source": [
    "num = int(input(\"정수를 입력하시오: \"))\n",
    "if num == 1 :\n",
    "    print(\"존재하지 않습니다.\")\n",
    "elif num > 1 :\n",
    "    for i in range(2,num+1) :\n",
    "        for n in range(2,num+1) :\n",
    "            if i%n==0 :\n",
    "                break\n",
    "        if i==n :\n",
    "            print(i)"
   ]
  },
  {
   "cell_type": "markdown",
   "id": "586b29e5",
   "metadata": {},
   "source": [
    "입력 받은 수가 1일 때는 소수가 존재하지 않으므로 따로 경우로 나누었다. 입력 받은 수가 1보다 클 때, 2부터 그 수까지 다음의 과정을 반복한다. 2부터 그 수까지 나누고 그 과정에서 나머지가 0인 경우가 생기면 for문을 빠지게 했다. 그리고 나눠지는 수와 나누는 수가 같으면 그 전의 수로는 나머지가 0이게 나누어지지 않았다는 뜻이므로 출력하게 했다."
   ]
  },
  {
   "cell_type": "markdown",
   "id": "c0211d73",
   "metadata": {},
   "source": [
    "# 9번"
   ]
  },
  {
   "cell_type": "code",
   "execution_count": 9,
   "id": "213de81f",
   "metadata": {},
   "outputs": [
    {
     "name": "stdout",
     "output_type": "stream",
     "text": [
      "string S를 입력하세요(대문자로 입력하시오): BANANA\n",
      "승자: Stuart 점수 12\n"
     ]
    }
   ],
   "source": [
    "s = input(\"string S를 입력하세요(대문자로 입력하시오): \")\n",
    "kevin = 0\n",
    "stuart = 0\n",
    "\n",
    "for i in range(0, len(s)) :\n",
    "    if s[i] in ['A', 'E', 'I', 'O', 'U'] :\n",
    "        kevin = kevin + len(s) - i\n",
    "    else :\n",
    "        stuart = stuart + len(s) - i\n",
    "\n",
    "if kevin > stuart :\n",
    "    print(\"승자: Kevin 점수: %d\" % kevin)\n",
    "elif stuart > kevin :\n",
    "    print(\"승자: Stuart 점수 %d\" % stuart)\n",
    "else :\n",
    "    print(\"동점입니다.\")"
   ]
  },
  {
   "cell_type": "markdown",
   "id": "9711d7d1",
   "metadata": {},
   "source": [
    "만약 BANANA를 입력했다면 문자열 길이 6만큼 for문을 돌린다. for문 안에서 B는 자음이니 stuart가 점수를 가져가는데, B로 시작해서 만들 수 있는 substring은 staurt + len(s) - i만큼인 6이니 stuart에 6이 저장된다. 이런식으로 B부터 마지막 A까지 for문을 돌리고 kevin과 stuart 중 점수가 더 높은 사람이 승리하는 문장이 출력된다. 만약 둘의 점수가 같다면 동점이라고 출력된다."
   ]
  },
  {
   "cell_type": "markdown",
   "id": "6f791c3f",
   "metadata": {},
   "source": [
    "# 10번"
   ]
  },
  {
   "cell_type": "code",
   "execution_count": 10,
   "id": "5e306964",
   "metadata": {},
   "outputs": [
    {
     "name": "stdout",
     "output_type": "stream",
     "text": [
      "문자열을 입력하시오(소문자로 입력하시오): hackerhappy\n",
      "바꾼 문자열을 입력하시오(소문자로 입력하시오): hackerrank\n",
      "횟수를 입력하시오: 9\n"
     ]
    },
    {
     "data": {
      "text/plain": [
       "'Yes'"
      ]
     },
     "execution_count": 10,
     "metadata": {},
     "output_type": "execute_result"
    }
   ],
   "source": [
    "s = input(\"문자열을 입력하시오(소문자로 입력하시오): \")\n",
    "t = input(\"바꾼 문자열을 입력하시오(소문자로 입력하시오): \")\n",
    "k = int(input(\"횟수를 입력하시오: \"))\n",
    "same = 0\n",
    "if len(s) >= len(t) :\n",
    "    length = len(t)\n",
    "else :\n",
    "    length = len(s)\n",
    "\n",
    "def appendDelete(s, t, k) :\n",
    "    for i in range(0, length) :\n",
    "        if s[i] == t[i] :\n",
    "            global same\n",
    "            same += 1\n",
    "        else :\n",
    "            break\n",
    "    \n",
    "    if (k - ((len(s)-same)+(len(t)-same)))%2==0 :\n",
    "        return 'Yes'\n",
    "    else :\n",
    "        return 'No'\n",
    "\n",
    "appendDelete(s, t, k)"
   ]
  },
  {
   "cell_type": "markdown",
   "id": "33795f1a",
   "metadata": {},
   "source": [
    "문자열 s와 t가 겹치는 길이를 same에 저장하고, s의 길이에서 same을 뺀 것과 t의 길이에서 same을 뺀 것을 합친 게 짝수라면 Yes를, 아니라면 No를 반환하게 만들었다."
   ]
  },
  {
   "cell_type": "markdown",
   "id": "b8918eb2",
   "metadata": {},
   "source": [
    "강의를 들을 때는 다 이해해서 과제할 때 문제 없을 거라 생각했는데, 막상 문제를 풀어보니 생각보다 파이썬을 이용하는 게 익숙치 않아 처음에는 쉬운 문제도 좀 시간이 걸렸습니다. 앞으로 문제를 더 풀어봐야겠다고 느꼈습니다."
   ]
  }
 ],
 "metadata": {
  "kernelspec": {
   "display_name": "Python 3",
   "language": "python",
   "name": "python3"
  },
  "language_info": {
   "codemirror_mode": {
    "name": "ipython",
    "version": 3
   },
   "file_extension": ".py",
   "mimetype": "text/x-python",
   "name": "python",
   "nbconvert_exporter": "python",
   "pygments_lexer": "ipython3",
   "version": "3.8.8"
  }
 },
 "nbformat": 4,
 "nbformat_minor": 5
}
