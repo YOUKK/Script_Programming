{
 "cells": [
  {
   "cell_type": "markdown",
   "id": "b47caad2",
   "metadata": {},
   "source": [
    "학번 : 2020136027 이름 : 김유경"
   ]
  },
  {
   "cell_type": "markdown",
   "id": "2e86d196",
   "metadata": {},
   "source": [
    "# 1"
   ]
  },
  {
   "cell_type": "code",
   "execution_count": 6,
   "id": "eabd4867",
   "metadata": {},
   "outputs": [
    {
     "name": "stdout",
     "output_type": "stream",
     "text": [
      "[1, 100, 4, 5]\n",
      "[1, 100, 4, 5]\n",
      "[1, 100, 101, 102, 4, 5]\n",
      "[1, 100, 101, 102, 4, 5]\n",
      "[1, (100, 101, 102), 4, 5]\n",
      "[1, [100, 101, 102], 4, 5]\n"
     ]
    }
   ],
   "source": [
    "L = [1,2,3,4,5]\n",
    "L[1:3] = [100]\n",
    "print(L)\n",
    "\n",
    "L = [1,2,3,4,5]\n",
    "L[1:3] = [(100)]\n",
    "print(L)\n",
    "\n",
    "#L = [1,2,3,4,5]\n",
    "#L[1:3] = 100\n",
    "#print(L)\n",
    "\n",
    "#L = [1,2,3,4,5]\n",
    "#L[1:3] = (100)\n",
    "#print(L)\n",
    "\n",
    "L = [1,2,3,4,5]\n",
    "L[1:3] = (100,101,102)\n",
    "print(L)\n",
    "\n",
    "L = [1,2,3,4,5]\n",
    "L[1:3] = [100,101,102]\n",
    "print(L)\n",
    "\n",
    "L = [1,2,3,4,5]\n",
    "L[1:3] = [(100,101,102)]\n",
    "print(L)\n",
    "\n",
    "L = [1,2,3,4,5]\n",
    "L[1:3] = [[100,101,102]]\n",
    "print(L)"
   ]
  },
  {
   "cell_type": "markdown",
   "id": "ac750957",
   "metadata": {},
   "source": [
    "1) L[1:3]은 [2,3]인데, 거기에 [100]하나만 할당하니까 2,3에 100이 들어간 것 같다.\n",
    "\n",
    "2) [100]이나 [(100)]이나 똑같은 자료형이다. 그러므로 1)과 같은 이유로 2,3에 100이 들어간 것 같다.\n",
    "\n",
    "3) 에러가 나서 주석처리 하였다. \"can only assign an iterable\"라는 에러가 뜨는데, L[1:3]은 시퀀스 자료형이지만 100은 시퀀스 자료형이 아니므로 이 에러가 뜬 것 같다.\n",
    "\n",
    "4) 3)번과 같이 \"can only assign an iterable\"라는 에러가 떠서 주석처리 했는데, 100이나 (100)이나 똑같은 int형이므로 시퀀스 자료형이 아니라 에러가 뜬 것 같다.\n",
    "\n",
    "5) [2,3]에 (100,101,102)를 할당해서 2,3 대신 100,101,102가 들어가므로 [1,100,101,102,4,5]와 같은 결과가 나오는 것 같다.\n",
    "\n",
    "6) 5)번과 같은 이유로 2,3 대신 100,101,102가 들어가므로 저런 결과가 나오는 것 같다.\n",
    "\n",
    "7) [2,3]에 [(100,101,102)] 요소 하나만 할당하니까 2,3 자리에 (100,101,102)가 들어간 것 같다.\n",
    "\n",
    "8) 7)번과 같은 이유로 [2,3]에 [[100,101,102]] 요소 하나만 할당하니까 2,3자리에 [100,101,102]가 들어간 것 같다."
   ]
  },
  {
   "cell_type": "markdown",
   "id": "67175559",
   "metadata": {},
   "source": [
    "# 2"
   ]
  },
  {
   "cell_type": "code",
   "execution_count": 7,
   "id": "ceaff374",
   "metadata": {},
   "outputs": [
    {
     "name": "stdout",
     "output_type": "stream",
     "text": [
      "Python and World Hello\n",
      "PythonandWorldHello\n"
     ]
    }
   ],
   "source": [
    "S = 'Hello World and Python'\n",
    "\n",
    "slist = S.split()\n",
    "slist = slist[::-1]\n",
    "S1 = ' '.join(slist)\n",
    "print(S1)\n",
    "\n",
    "S2 = S1.split()\n",
    "S2 = ''.join(S2)\n",
    "print(S2)"
   ]
  },
  {
   "cell_type": "markdown",
   "id": "395d05bc",
   "metadata": {},
   "source": [
    "일단 처음에 문자열 S를 split을 이용해 공백을 기준으로 나누어 리스트로 slist에 저장하고 slist[::-1]로 통해 역순으로 만든다. 그리고 join을 통해 다시 문자열로 만들면 'Python and World Hello'이 만들어진다. 그 다음 이걸 다시 split을 이용해 공백을 기준으로 나누어 S2에 리스트로 저장하고 join을 통해 공백 없이 문자열로 만든다. 그러면 'PythonandWorldHello'가 만들어진다."
   ]
  },
  {
   "cell_type": "markdown",
   "id": "a1188e29",
   "metadata": {},
   "source": [
    "# 3"
   ]
  },
  {
   "cell_type": "code",
   "execution_count": 8,
   "id": "1e1ee033",
   "metadata": {},
   "outputs": [
    {
     "name": "stdout",
     "output_type": "stream",
     "text": [
      "[1, 2, 3, 1, 2, 3, 1, 2, 3]\n",
      "[[1, 2, 3], [1, 2, 3], [1, 2, 3]]\n",
      "[1, 2, 3, 1, 2, 3, 1, 2, 3]\n",
      "[[0, 2, 3], [0, 2, 3], [0, 2, 3]]\n"
     ]
    }
   ],
   "source": [
    "a = [1, 2, 3]\n",
    "b = a * 3\n",
    "c = [a] * 3\n",
    "print(b)\n",
    "print(c)\n",
    "\n",
    "a[0]=0\n",
    "print(b)\n",
    "print(c)"
   ]
  },
  {
   "cell_type": "markdown",
   "id": "7a7ba4ae",
   "metadata": {},
   "source": [
    "2) b는 a와 다른 새로운 객체를 가리키고 c의 모든 요소들은 a가 가리키는 객체를 가리킨다."
   ]
  },
  {
   "cell_type": "markdown",
   "id": "83cabf6e",
   "metadata": {},
   "source": [
    "# 4"
   ]
  },
  {
   "cell_type": "code",
   "execution_count": 9,
   "id": "e16dc284",
   "metadata": {},
   "outputs": [
    {
     "name": "stdout",
     "output_type": "stream",
     "text": [
      "['first star', 'second star', 'third star']\n"
     ]
    }
   ],
   "source": [
    "s = '  first star   :   second star   :    third star  '\n",
    "slist = s.split(':')\n",
    "l = [i.strip() for i in slist]\n",
    "print(l)"
   ]
  },
  {
   "cell_type": "markdown",
   "id": "ea1aaa09",
   "metadata": {},
   "source": [
    "split을 이용해 :를 기준으로 문자열 s를 나눠서 리스트로 slist에 저장했다. 그 다음엔 리스트 내포를 이용해 for문으로 slist에 있는 요소 하나하나를 공백제거 한 뒤 l에 저장했다."
   ]
  },
  {
   "cell_type": "code",
   "execution_count": 12,
   "id": "64ebc501",
   "metadata": {},
   "outputs": [
    {
     "name": "stdout",
     "output_type": "stream",
     "text": [
      "45\n",
      "45\n"
     ]
    }
   ],
   "source": [
    "def addall(list) :\n",
    "    sum = 0\n",
    "    for i in list :\n",
    "        sum += i\n",
    "    return sum\n",
    "\n",
    "print(addall([1,2,3,4,5,6,7,8,9]))\n",
    "\n",
    "def addall(list) :\n",
    "    return sum([i for i in list])\n",
    "\n",
    "print(addall([1,2,3,4,5,6,7,8,9]))"
   ]
  },
  {
   "cell_type": "markdown",
   "id": "6c957cd0",
   "metadata": {},
   "source": [
    "위에가 for~in 리터럴 방식이고 아래가 리스트 내포 방식이다. 인자로 받는 list의 모든 요소를 더하고 그 결과를 반환한다."
   ]
  },
  {
   "cell_type": "code",
   "execution_count": 14,
   "id": "a014c405",
   "metadata": {},
   "outputs": [
    {
     "name": "stdout",
     "output_type": "stream",
     "text": [
      "25\n",
      "25\n"
     ]
    }
   ],
   "source": [
    "def addallodd(list) :\n",
    "    sum = 0\n",
    "    for i in list :\n",
    "        if i%2==1 :\n",
    "            sum += i\n",
    "    return sum\n",
    "\n",
    "print(addallodd([1,2,3,4,5,6,7,8,9]))\n",
    "\n",
    "def addallodd(list) :\n",
    "    return sum([i for i in list if i%2==1])\n",
    "\n",
    "print(addallodd([1,2,3,4,5,6,7,8,9]))"
   ]
  },
  {
   "cell_type": "markdown",
   "id": "422c4e6e",
   "metadata": {},
   "source": [
    "위에가 for~in 리터럴 방식이고 아래가 리스트 내포 방식이다. 인자로 받는 list의 요소 중 홀수만 더하고 그 결과를 반환한다."
   ]
  },
  {
   "cell_type": "markdown",
   "id": "649ca1d2",
   "metadata": {},
   "source": [
    "# 5"
   ]
  },
  {
   "cell_type": "markdown",
   "id": "82a6216c",
   "metadata": {},
   "source": [
    "1) d와 e가 가리키는 객체가 같기 때문이다. 그래서 d의 값이 바뀌어도 d와 e는 항상 같은 결과를 출력한다.\n",
    "\n",
    "2) f는 d를 얕은 복사한 것이다. d['low'] = [10, 20, 30]를 함으로써 재할당되어 d의 low키의 값은 [10,20,30]이 출력되고 f의 low키의 값은 [1,2,3]이 출력된다. 하지만 얕은 복사이므로 d['low']의 주소와 f['low']의 주소가 같기 때문에 d['high'][1] = 500을 하면 f의 high키 값 중 500이 출력된다."
   ]
  },
  {
   "cell_type": "markdown",
   "id": "aaf57da4",
   "metadata": {},
   "source": [
    "# 6"
   ]
  },
  {
   "cell_type": "code",
   "execution_count": 18,
   "id": "3803d575",
   "metadata": {},
   "outputs": [
    {
     "name": "stdout",
     "output_type": "stream",
     "text": [
      "('five', 5) ('four', 4) ('one', 1) ('three', 3) ('two', 2) \n",
      "('two', 2) ('three', 3) ('one', 1) ('four', 4) ('five', 5) \n",
      "('one', 1) ('two', 2) ('three', 3) ('four', 4) ('five', 5) \n",
      "('five', 5) ('four', 4) ('three', 3) ('two', 2) ('one', 1) "
     ]
    }
   ],
   "source": [
    "d = {'one':1, 'two':2, 'three':3, 'four':4, 'five':5}\n",
    "key = []\n",
    "value = []\n",
    "for i in d.keys() :\n",
    "    key.append(i)\n",
    "for i in d.values() :\n",
    "    value.append(i)\n",
    "\n",
    "key1 = sorted(key)\n",
    "for i in key1 :\n",
    "    print((i, d[i]), end=' ')\n",
    "print()\n",
    "    \n",
    "key2 = sorted(key, reverse=True)\n",
    "for i in key2 :\n",
    "    print((i, d[i]), end=' ')\n",
    "print()\n",
    "\n",
    "value1 = sorted(value)\n",
    "for i in value1 :\n",
    "    for k,v in d.items() :\n",
    "        if v == i :\n",
    "            print((k, v), end=' ')\n",
    "print()\n",
    "            \n",
    "value2 = sorted(value, reverse=True)\n",
    "for i in value2 :\n",
    "    for k,v in d.items() :\n",
    "        if v == i :\n",
    "            print((k, v), end=' ')"
   ]
  },
  {
   "cell_type": "markdown",
   "id": "d90325bb",
   "metadata": {},
   "source": [
    "일단 처음에 d.keys()와 d.values()를 통해 키를 모아둔 리스트, 값을 모아둔 리스트를 만든다. 그 다음에는 문제 조건에 맞게 sorted하여 오름차순, 내림차순을 적용시키고 튜플로 (키,값)을 출력한다. "
   ]
  },
  {
   "cell_type": "markdown",
   "id": "01eed1d2",
   "metadata": {},
   "source": [
    "# 7"
   ]
  },
  {
   "cell_type": "code",
   "execution_count": 16,
   "id": "d1c28805",
   "metadata": {},
   "outputs": [
    {
     "name": "stdout",
     "output_type": "stream",
     "text": [
      "True\n",
      "True\n",
      "False\n",
      "True\n",
      "False\n"
     ]
    }
   ],
   "source": [
    "def isStrange(num) :\n",
    "    snum = \"\"\n",
    "    length = 0\n",
    "    if num>=0 :\n",
    "        snum = str(num)\n",
    "        length = len(snum)\n",
    "    else :\n",
    "        snum = str(num)\n",
    "        length = len(snum)-1\n",
    "    \n",
    "    if num>=0 and length == 1:\n",
    "        return True\n",
    "    elif length > 1 and num%length == 0 :\n",
    "        if isStrange(num//length) :\n",
    "            return True\n",
    "    return False\n",
    "\n",
    "print(isStrange(0))\n",
    "print(isStrange(56))\n",
    "print(isStrange(100))\n",
    "print(isStrange(7882602506492313600))\n",
    "print(isStrange(6012302549522098651))"
   ]
  },
  {
   "cell_type": "markdown",
   "id": "317a190c",
   "metadata": {},
   "source": [
    "처음에 snum에는 입력받은 num을 문자열 타입으로 만들어 저장하고 length에는 snum의 길이를 통해 num의 자릿수를 구하는 방식으로 자릿수를 구해 저장했다. 그 다음에는 Strange조건에 맞게 조건문을 작성하였다. 0이상, 자릿수가 1이면 True를 반환한다. 그리고 자릿수가 1보다 크고 num이 자릿수로 정확히 나누어 떨어질 때 num//자릿수도 Strange이면 True를 반환한다. 나머지 경우는 모두 False를 반환한다."
   ]
  },
  {
   "cell_type": "markdown",
   "id": "18a901bc",
   "metadata": {},
   "source": [
    "# 8"
   ]
  },
  {
   "cell_type": "code",
   "execution_count": 23,
   "id": "72c8caaa",
   "metadata": {},
   "outputs": [
    {
     "data": {
      "text/plain": [
       "[4]"
      ]
     },
     "execution_count": 23,
     "metadata": {},
     "output_type": "execute_result"
    }
   ],
   "source": [
    "def solve(a):\n",
    "    storeA = a\n",
    "    result = []\n",
    "    sum = 0\n",
    "    for i in range(len(a)):\n",
    "        sum += a[i]\n",
    "    bus = 1\n",
    "    check = False\n",
    "    while True:\n",
    "        for i in range(len(a)):\n",
    "            temp = 0\n",
    "            if sum == bus: \n",
    "                result.append(sum)\n",
    "                check = True\n",
    "                break\n",
    "\n",
    "            if temp == bus and i < len(a)-1:\n",
    "                temp = temp + a[i]\n",
    "                a[i] = 0\n",
    "            elif temp < bus and i < len(a)-1:\n",
    "                temp = temp + a[i]\n",
    "                a[i] = 0\n",
    "            elif temp > bus and i < len(a)-1:\n",
    "                for i in range(len(a)):\n",
    "                    a[i] = storeA[i]\n",
    "                temp = 0\n",
    "            elif temp < bus and i == len(a)-1:\n",
    "                for i in range(len(a)):\n",
    "                    a[i] = storeA[i]\n",
    "                temp = 0\n",
    "                break\n",
    "            elif temp == bus and i == len(a)-1:\n",
    "                result.append(bus)\n",
    "                for i in range(len(a)):\n",
    "                    a[i] = storeA[i]\n",
    "                temp = 0\n",
    "                break\n",
    "            elif temp >= bus and i == len(a)-1:\n",
    "                for i in range(len(a)):\n",
    "                    a[i] = storeA[i]\n",
    "                temp = 0\n",
    "        if check: break\n",
    "        bus += 1\n",
    "    return result\n",
    "\n",
    "solve([1, 1, 1, 1])"
   ]
  },
  {
   "cell_type": "code",
   "execution_count": null,
   "id": "26a03fce",
   "metadata": {},
   "outputs": [],
   "source": []
  },
  {
   "cell_type": "markdown",
   "id": "8ccb2e25",
   "metadata": {},
   "source": [
    "# Incremental Project 문제"
   ]
  },
  {
   "cell_type": "code",
   "execution_count": null,
   "id": "be434612",
   "metadata": {},
   "outputs": [],
   "source": [
    "import requests\n",
    "\n",
    "req = requests.get('https://programmers.co.kr/')\n",
    "#req = requests.get('https://www.acmicpc.net/')\n",
    "\n",
    "line = req.text\n",
    "\n",
    "#print(line)\n",
    "\n",
    "l1 = list(line)\n",
    "\n",
    "try:\n",
    "    while True :\n",
    "        i = l1.index('<')\n",
    "        \n",
    "        if l1[i+1] == 's' and l1[i+2] == 'c':\n",
    "            l1.pop(i)\n",
    "            while l1[i] != '<' :\n",
    "                l1.pop(i)\n",
    "        elif l1[i+1] == 'n' :\n",
    "            l1.pop(i)\n",
    "            while not (l1[i] == '<' and l1[i+1] == '/' and l1[i+2] == 'n') :\n",
    "                l1.pop(i)\n",
    "        else :\n",
    "            while l1[i] != '>' : \n",
    "                l1.pop(i)\n",
    "            if l1[i] == '>' : \n",
    "                l1.pop(i)\n",
    "except: None\n",
    "\n",
    "try :\n",
    "    while True :\n",
    "        i = l1.index('\\n')       \n",
    "        if l1[i] == '\\n' :\n",
    "            l1.pop(i)\n",
    "except : None\n",
    "            \n",
    "b = ''.join(l1).split()\n",
    "\n",
    "\n",
    "\n",
    "\n",
    "import string\n",
    "\n",
    "newlist = []\n",
    "\n",
    "for substring in b :\n",
    "    substring2 = ''.join([i for i in substring if i not in string.punctuation])\n",
    "    newlist.append(substring2)\n",
    "            \n",
    "newlist = ' '.join(newlist).split()\n",
    "    \n",
    "print(newlist)\n",
    "\n",
    "for i in range(len(newlist)) :\n",
    "    a = newlist.count(newlist[i])\n",
    "    print(a)\n"
   ]
  },
  {
   "cell_type": "markdown",
   "id": "bdd73f5d",
   "metadata": {},
   "source": [
    "이번 과제의 첫번째 for문에서 .,()이런걸 지웠고 그 다음에 빈문자열을 지웠고 그 다음 for문에서 각 단어의 개수를 셌다"
   ]
  },
  {
   "cell_type": "markdown",
   "id": "78f69f04",
   "metadata": {},
   "source": [
    "이번 과제는 쉬운듯 어려웠다. 더 많이 공부해야 될 것 같다."
   ]
  }
 ],
 "metadata": {
  "kernelspec": {
   "display_name": "Python 3",
   "language": "python",
   "name": "python3"
  },
  "language_info": {
   "codemirror_mode": {
    "name": "ipython",
    "version": 3
   },
   "file_extension": ".py",
   "mimetype": "text/x-python",
   "name": "python",
   "nbconvert_exporter": "python",
   "pygments_lexer": "ipython3",
   "version": "3.8.8"
  }
 },
 "nbformat": 4,
 "nbformat_minor": 5
}
